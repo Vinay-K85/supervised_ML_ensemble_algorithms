{
 "cells": [
  {
   "cell_type": "markdown",
   "metadata": {},
   "source": [
    "# Gradient Boosting (Regression)\n",
    "\n",
    "Data Source: [NASA - Airfoil Self-Noise](\"https://archive.ics.uci.edu/ml/datasets/airfoil+self-noise\")\n",
    "\n",
    "**Attribute Information**\n",
    "\n",
    "This problem has the following inputs:\n",
    "- 1. Frequency, in Hertzs.\n",
    "- 2. Angle of attack, in degrees.\n",
    "- 3. Chord length, in meters.\n",
    "- 4. Free-stream velocity, in meters per second.\n",
    "- 5. Suction side displacement thickness, in meters.\n",
    "\n",
    "The only output is:\n",
    "- 6. Scaled sound pressure level, in decibels. "
   ]
  },
  {
   "cell_type": "code",
   "execution_count": 1,
   "metadata": {},
   "outputs": [],
   "source": [
    "# Importing the necessary packages\n",
    "import numpy as np\n",
    "import pandas as pd\n",
    "from sklearn.ensemble import GradientBoostingRegressor, AdaBoostRegressor, ExtraTreesRegressor\n",
    "from sklearn.ensemble import RandomForestRegressor, BaggingRegressor\n",
    "from sklearn.tree import DecisionTreeRegressor\n",
    "from sklearn.metrics import mean_squared_error\n",
    "from math import sqrt\n",
    "from sklearn.model_selection import train_test_split\n",
    "\n",
    "import warnings\n",
    "warnings.filterwarnings(\"ignore\")"
   ]
  },
  {
   "cell_type": "code",
   "execution_count": 2,
   "metadata": {},
   "outputs": [
    {
     "data": {
      "text/html": [
       "<div>\n",
       "<style scoped>\n",
       "    .dataframe tbody tr th:only-of-type {\n",
       "        vertical-align: middle;\n",
       "    }\n",
       "\n",
       "    .dataframe tbody tr th {\n",
       "        vertical-align: top;\n",
       "    }\n",
       "\n",
       "    .dataframe thead th {\n",
       "        text-align: right;\n",
       "    }\n",
       "</style>\n",
       "<table border=\"1\" class=\"dataframe\">\n",
       "  <thead>\n",
       "    <tr style=\"text-align: right;\">\n",
       "      <th></th>\n",
       "      <th>800</th>\n",
       "      <th>0</th>\n",
       "      <th>0.3048</th>\n",
       "      <th>71.3</th>\n",
       "      <th>0.00266337</th>\n",
       "      <th>126.201</th>\n",
       "    </tr>\n",
       "  </thead>\n",
       "  <tbody>\n",
       "    <tr>\n",
       "      <th>0</th>\n",
       "      <td>1000</td>\n",
       "      <td>0.0</td>\n",
       "      <td>0.3048</td>\n",
       "      <td>71.3</td>\n",
       "      <td>0.002663</td>\n",
       "      <td>125.201</td>\n",
       "    </tr>\n",
       "    <tr>\n",
       "      <th>1</th>\n",
       "      <td>1250</td>\n",
       "      <td>0.0</td>\n",
       "      <td>0.3048</td>\n",
       "      <td>71.3</td>\n",
       "      <td>0.002663</td>\n",
       "      <td>125.951</td>\n",
       "    </tr>\n",
       "    <tr>\n",
       "      <th>2</th>\n",
       "      <td>1600</td>\n",
       "      <td>0.0</td>\n",
       "      <td>0.3048</td>\n",
       "      <td>71.3</td>\n",
       "      <td>0.002663</td>\n",
       "      <td>127.591</td>\n",
       "    </tr>\n",
       "    <tr>\n",
       "      <th>3</th>\n",
       "      <td>2000</td>\n",
       "      <td>0.0</td>\n",
       "      <td>0.3048</td>\n",
       "      <td>71.3</td>\n",
       "      <td>0.002663</td>\n",
       "      <td>127.461</td>\n",
       "    </tr>\n",
       "    <tr>\n",
       "      <th>4</th>\n",
       "      <td>2500</td>\n",
       "      <td>0.0</td>\n",
       "      <td>0.3048</td>\n",
       "      <td>71.3</td>\n",
       "      <td>0.002663</td>\n",
       "      <td>125.571</td>\n",
       "    </tr>\n",
       "  </tbody>\n",
       "</table>\n",
       "</div>"
      ],
      "text/plain": [
       "    800    0  0.3048  71.3  0.00266337  126.201\n",
       "0  1000  0.0  0.3048  71.3    0.002663  125.201\n",
       "1  1250  0.0  0.3048  71.3    0.002663  125.951\n",
       "2  1600  0.0  0.3048  71.3    0.002663  127.591\n",
       "3  2000  0.0  0.3048  71.3    0.002663  127.461\n",
       "4  2500  0.0  0.3048  71.3    0.002663  125.571"
      ]
     },
     "execution_count": 2,
     "metadata": {},
     "output_type": "execute_result"
    }
   ],
   "source": [
    "# Load and read the dataset\n",
    "airfoil = pd.read_csv(\"./airfoil/airfoil_self_noise.dat\", sep = \"\\t\")\n",
    "airfoil.head()"
   ]
  },
  {
   "cell_type": "code",
   "execution_count": 3,
   "metadata": {},
   "outputs": [
    {
     "data": {
      "text/html": [
       "<div>\n",
       "<style scoped>\n",
       "    .dataframe tbody tr th:only-of-type {\n",
       "        vertical-align: middle;\n",
       "    }\n",
       "\n",
       "    .dataframe tbody tr th {\n",
       "        vertical-align: top;\n",
       "    }\n",
       "\n",
       "    .dataframe thead th {\n",
       "        text-align: right;\n",
       "    }\n",
       "</style>\n",
       "<table border=\"1\" class=\"dataframe\">\n",
       "  <thead>\n",
       "    <tr style=\"text-align: right;\">\n",
       "      <th></th>\n",
       "      <th>frequency</th>\n",
       "      <th>angle</th>\n",
       "      <th>length</th>\n",
       "      <th>velocity</th>\n",
       "      <th>displacement</th>\n",
       "      <th>pressure</th>\n",
       "    </tr>\n",
       "  </thead>\n",
       "  <tbody>\n",
       "    <tr>\n",
       "      <th>0</th>\n",
       "      <td>1000</td>\n",
       "      <td>0.0</td>\n",
       "      <td>0.3048</td>\n",
       "      <td>71.3</td>\n",
       "      <td>0.002663</td>\n",
       "      <td>125.201</td>\n",
       "    </tr>\n",
       "    <tr>\n",
       "      <th>1</th>\n",
       "      <td>1250</td>\n",
       "      <td>0.0</td>\n",
       "      <td>0.3048</td>\n",
       "      <td>71.3</td>\n",
       "      <td>0.002663</td>\n",
       "      <td>125.951</td>\n",
       "    </tr>\n",
       "    <tr>\n",
       "      <th>2</th>\n",
       "      <td>1600</td>\n",
       "      <td>0.0</td>\n",
       "      <td>0.3048</td>\n",
       "      <td>71.3</td>\n",
       "      <td>0.002663</td>\n",
       "      <td>127.591</td>\n",
       "    </tr>\n",
       "    <tr>\n",
       "      <th>3</th>\n",
       "      <td>2000</td>\n",
       "      <td>0.0</td>\n",
       "      <td>0.3048</td>\n",
       "      <td>71.3</td>\n",
       "      <td>0.002663</td>\n",
       "      <td>127.461</td>\n",
       "    </tr>\n",
       "    <tr>\n",
       "      <th>4</th>\n",
       "      <td>2500</td>\n",
       "      <td>0.0</td>\n",
       "      <td>0.3048</td>\n",
       "      <td>71.3</td>\n",
       "      <td>0.002663</td>\n",
       "      <td>125.571</td>\n",
       "    </tr>\n",
       "  </tbody>\n",
       "</table>\n",
       "</div>"
      ],
      "text/plain": [
       "   frequency  angle  length  velocity  displacement  pressure\n",
       "0       1000    0.0  0.3048      71.3      0.002663   125.201\n",
       "1       1250    0.0  0.3048      71.3      0.002663   125.951\n",
       "2       1600    0.0  0.3048      71.3      0.002663   127.591\n",
       "3       2000    0.0  0.3048      71.3      0.002663   127.461\n",
       "4       2500    0.0  0.3048      71.3      0.002663   125.571"
      ]
     },
     "execution_count": 3,
     "metadata": {},
     "output_type": "execute_result"
    }
   ],
   "source": [
    "# Rename the columns as per data source\n",
    "airfoil.columns = [\"frequency\", \"angle\", \"length\", \"velocity\", \"displacement\", \"pressure\"]\n",
    "airfoil.head()"
   ]
  },
  {
   "cell_type": "code",
   "execution_count": 4,
   "metadata": {},
   "outputs": [
    {
     "name": "stdout",
     "output_type": "stream",
     "text": [
      "Dimensions of dataset are:  (1502, 6)\n",
      "The variables present in dataset are:  Index(['frequency', 'angle', 'length', 'velocity', 'displacement', 'pressure'], dtype='object')\n"
     ]
    }
   ],
   "source": [
    "# Display the characteristics of the dataset\n",
    "print(\"Dimensions of dataset are: \", airfoil.shape)\n",
    "print(\"The variables present in dataset are: \", airfoil.columns)"
   ]
  },
  {
   "cell_type": "code",
   "execution_count": 5,
   "metadata": {},
   "outputs": [],
   "source": [
    "# Using a random seed function to generate the same dataset\n",
    "np.random.seed(3000)"
   ]
  },
  {
   "cell_type": "code",
   "execution_count": 6,
   "metadata": {},
   "outputs": [],
   "source": [
    "# Train-Test Split\n",
    "training, test = train_test_split(airfoil, test_size = 0.3)\n",
    "\n",
    "x_trg = training.drop(\"pressure\", axis = 1)\n",
    "y_trg = training[\"pressure\"]\n",
    "\n",
    "x_test = test.drop(\"pressure\", axis = 1)\n",
    "y_test = test[\"pressure\"]"
   ]
  },
  {
   "cell_type": "markdown",
   "metadata": {},
   "source": [
    "### Creating Gradient Boosting model"
   ]
  },
  {
   "cell_type": "code",
   "execution_count": 7,
   "metadata": {},
   "outputs": [
    {
     "name": "stdout",
     "output_type": "stream",
     "text": [
      "Accuracy of Gradient Boosting model on training set is:  0.8861890217507379\n",
      "Accuracy of Gradient Boosting model on test set is:  0.848131736398517\n",
      "RMSE value of Gradient Boosting model is:  2.7067274078012558\n"
     ]
    }
   ],
   "source": [
    "# Model building - Gradient Boosting\n",
    "airfoil_grad = GradientBoostingRegressor()\n",
    "\n",
    "# Fit the model\n",
    "airfoil_grad.fit(x_trg, y_trg)\n",
    "print(\"Accuracy of Gradient Boosting model on training set is: \", airfoil_grad.score(x_trg, y_trg))\n",
    "print(\"Accuracy of Gradient Boosting model on test set is: \", airfoil_grad.score(x_test, y_test))\n",
    "\n",
    "# Prediction via Gradient Boosting\n",
    "airfoil_grad_pred = airfoil_grad.predict(x_test)\n",
    "\n",
    "# Compute the RMSE of Gradient Boosting\n",
    "airfoil_grad_rmse = sqrt(mean_squared_error(y_test, airfoil_grad_pred))\n",
    "print(\"RMSE value of Gradient Boosting model is: \", airfoil_grad_rmse)"
   ]
  },
  {
   "cell_type": "markdown",
   "metadata": {},
   "source": [
    "#### Creating a new Gradient Boosting model with Grid Search"
   ]
  },
  {
   "cell_type": "code",
   "execution_count": 8,
   "metadata": {},
   "outputs": [],
   "source": [
    "# Import the necessary package\n",
    "from sklearn.model_selection import GridSearchCV"
   ]
  },
  {
   "cell_type": "code",
   "execution_count": 9,
   "metadata": {},
   "outputs": [],
   "source": [
    "# Setting the parameters\n",
    "param_grid = {\"max_depth\" : [3,4,5], \"n_estimators\" : [50,100,200], \"learning_rate\" : [0.5,0.7,0.9,1.0]}\n",
    "airfoil_grad_grid = GradientBoostingRegressor()\n",
    "airfoil_grad_CV = GridSearchCV(estimator = airfoil_grad_grid, param_grid = param_grid, cv = 5)"
   ]
  },
  {
   "cell_type": "code",
   "execution_count": 10,
   "metadata": {},
   "outputs": [
    {
     "name": "stdout",
     "output_type": "stream",
     "text": [
      "Best Parameters are: \n",
      " {'learning_rate': 0.7, 'max_depth': 3, 'n_estimators': 200}\n"
     ]
    }
   ],
   "source": [
    "# Fit the model\n",
    "airfoil_grad_result = airfoil_grad_CV.fit(x_trg, y_trg)\n",
    "print(\"Best Parameters are: \\n\", airfoil_grad_CV.best_params_)"
   ]
  },
  {
   "cell_type": "markdown",
   "metadata": {},
   "source": [
    "#### Creating the model with best scores"
   ]
  },
  {
   "cell_type": "code",
   "execution_count": 11,
   "metadata": {},
   "outputs": [],
   "source": [
    "# Model building - Gradient Boosting with best scores\n",
    "airfoil_grad_best = GradientBoostingRegressor(\n",
    "                    max_depth = airfoil_grad_result.best_params_[\"max_depth\"],\n",
    "                    n_estimators = airfoil_grad_result.best_params_[\"n_estimators\"],\n",
    "                    learning_rate = airfoil_grad_result.best_params_[\"learning_rate\"])"
   ]
  },
  {
   "cell_type": "markdown",
   "metadata": {},
   "source": [
    "#### Evaluating the model with best scores"
   ]
  },
  {
   "cell_type": "code",
   "execution_count": 12,
   "metadata": {},
   "outputs": [
    {
     "name": "stdout",
     "output_type": "stream",
     "text": [
      "Accuracy of GB model with best parameter on training set is:  0.9847755313947395\n",
      "Accuracy of GB model with best parameter on test set is:  0.9265134864776614\n",
      "RMSE value of new Gradient Boosting model is:  1.8828461232305436\n"
     ]
    }
   ],
   "source": [
    "# Fit the model\n",
    "airfoil_grad_best.fit(x_trg, y_trg)\n",
    "print(\"Accuracy of GB model with best parameter on training set is: \", airfoil_grad_best.score(x_trg, y_trg))\n",
    "print(\"Accuracy of GB model with best parameter on test set is: \", airfoil_grad_best.score(x_test, y_test))\n",
    "\n",
    "# Prediction via GB model with best parameters\n",
    "airfoil_grad_pred_2 = airfoil_grad_best.predict(x_test)\n",
    "\n",
    "# Compute the RMSE value of GB best model\n",
    "airfoil_grad_rmse_2 = sqrt(mean_squared_error(y_test, airfoil_grad_pred_2))\n",
    "print(\"RMSE value of new Gradient Boosting model is: \", airfoil_grad_rmse_2)"
   ]
  },
  {
   "cell_type": "markdown",
   "metadata": {},
   "source": [
    "#### Creating AdaBoost model"
   ]
  },
  {
   "cell_type": "code",
   "execution_count": 13,
   "metadata": {},
   "outputs": [
    {
     "name": "stdout",
     "output_type": "stream",
     "text": [
      "Accuracy of AdaBoost model on training set is:  0.7047355559502793\n",
      "Accuracy of AdaBoost model on test set is:  0.7099200113293812\n",
      "RMSE value of AdaBoost model is:  3.7408465325768563\n"
     ]
    }
   ],
   "source": [
    "# Model building - AdaBoost\n",
    "airfoil_ada = AdaBoostRegressor()\n",
    "\n",
    "# Fit the model\n",
    "airfoil_ada.fit(x_trg, y_trg)\n",
    "print(\"Accuracy of AdaBoost model on training set is: \", airfoil_ada.score(x_trg, y_trg))\n",
    "print(\"Accuracy of AdaBoost model on test set is: \", airfoil_ada.score(x_test, y_test))\n",
    "\n",
    "# Prediction via AdaBoost\n",
    "airfoil_ada_pred = airfoil_ada.predict(x_test)\n",
    "\n",
    "# Compute the RMSE value of AdaBoost\n",
    "airfoil_ada_rmse = sqrt(mean_squared_error(y_test, airfoil_ada_pred))\n",
    "print(\"RMSE value of AdaBoost model is: \", airfoil_ada_rmse)"
   ]
  },
  {
   "cell_type": "markdown",
   "metadata": {},
   "source": [
    "#### Creating Extra Tree model"
   ]
  },
  {
   "cell_type": "code",
   "execution_count": 14,
   "metadata": {},
   "outputs": [
    {
     "name": "stdout",
     "output_type": "stream",
     "text": [
      "Accuracy of Extra Tree model on training set is:  0.9999999850780376\n",
      "Accuracy of Extra Tree model on test set is:  0.9401578153704178\n",
      "RMSE value of Extra Tree model is:  1.6990835167059037\n"
     ]
    }
   ],
   "source": [
    "# Model building - Extra Tree\n",
    "airfoil_extratree = ExtraTreesRegressor()\n",
    "\n",
    "# Fit the model\n",
    "airfoil_extratree.fit(x_trg, y_trg)\n",
    "print(\"Accuracy of Extra Tree model on training set is: \", airfoil_extratree.score(x_trg, y_trg))\n",
    "print(\"Accuracy of Extra Tree model on test set is: \", airfoil_extratree.score(x_test, y_test))\n",
    "\n",
    "# Prediction via Extra Tree\n",
    "airfoil_extratree_pred = airfoil_extratree.predict(x_test)\n",
    "\n",
    "# Compute the RMSE value of Extra Tree\n",
    "airfoil_extratree_rmse = sqrt(mean_squared_error(y_test, airfoil_extratree_pred))\n",
    "print(\"RMSE value of Extra Tree model is: \", airfoil_extratree_rmse)"
   ]
  },
  {
   "cell_type": "markdown",
   "metadata": {},
   "source": [
    "#### Creating Random Forest model"
   ]
  },
  {
   "cell_type": "code",
   "execution_count": 15,
   "metadata": {},
   "outputs": [
    {
     "name": "stdout",
     "output_type": "stream",
     "text": [
      "Accuracy of Random Forest on training set is:  0.9888531636649133\n",
      "Accuracy of Random Forest on test set is:  0.9236843627017386\n",
      "RMSE value of Random Forest model is:  1.918747268097239\n"
     ]
    }
   ],
   "source": [
    "# Model building - Random Forest\n",
    "airfoil_forest = RandomForestRegressor(random_state = 0)\n",
    "\n",
    "# Fit the model\n",
    "airfoil_forest.fit(x_trg, y_trg)\n",
    "print(\"Accuracy of Random Forest on training set is: \", airfoil_forest.score(x_trg, y_trg))\n",
    "print(\"Accuracy of Random Forest on test set is: \", airfoil_forest.score(x_test, y_test))\n",
    "\n",
    "# Prediction via Random Forest\n",
    "airfoil_forest_pred = airfoil_forest.predict(x_test)\n",
    "\n",
    "# Compute the RMSE value of Random Forest\n",
    "airfoil_forest_rmse = sqrt(mean_squared_error(y_test, airfoil_forest_pred))\n",
    "print(\"RMSE value of Random Forest model is: \", airfoil_forest_rmse)"
   ]
  },
  {
   "cell_type": "markdown",
   "metadata": {},
   "source": [
    "#### Creating Bagging model"
   ]
  },
  {
   "cell_type": "code",
   "execution_count": 16,
   "metadata": {},
   "outputs": [
    {
     "name": "stdout",
     "output_type": "stream",
     "text": [
      "Accuracy of Bagging model on training set is:  0.9811483801536135\n",
      "Accuracy of Bagging model on test set ist:  0.9158311075043963\n",
      "RMSE value of Bagging model is:  2.0150545762967678\n"
     ]
    }
   ],
   "source": [
    "# Model building - Bagging\n",
    "airfoil_bag = BaggingRegressor(base_estimator = None, n_estimators = 10, max_samples = 1.0,\n",
    "                              max_features = 1.0, bootstrap = True)\n",
    "\n",
    "# Fit the model\n",
    "airfoil_bag.fit(x_trg, y_trg)\n",
    "print(\"Accuracy of Bagging model on training set is: \", airfoil_bag.score(x_trg, y_trg))\n",
    "print(\"Accuracy of Bagging model on test set ist: \", airfoil_bag.score(x_test, y_test))\n",
    "\n",
    "# Prediction via Bagging\n",
    "airfoil_bag_pred = airfoil_bag.predict(x_test)\n",
    "\n",
    "# Compute the RMSE value of Bagging\n",
    "airfoil_bag_rmse = sqrt(mean_squared_error(y_test, airfoil_bag_pred))\n",
    "print(\"RMSE value of Bagging model is: \", airfoil_bag_rmse)"
   ]
  },
  {
   "cell_type": "markdown",
   "metadata": {},
   "source": [
    "#### Creating Decision Tree model"
   ]
  },
  {
   "cell_type": "code",
   "execution_count": 17,
   "metadata": {},
   "outputs": [
    {
     "name": "stdout",
     "output_type": "stream",
     "text": [
      "Accuracy of Decision Tree model on training set is:  1.0\n",
      "Accuracy of Decision Tree model on test set ist:  0.850105137254568\n",
      "RMSE value of Decision Tree model is:  2.689084077782543\n"
     ]
    }
   ],
   "source": [
    "# Model building - Decision Tree\n",
    "airfoil_tree = DecisionTreeRegressor(random_state = 0)\n",
    "\n",
    "# Fit the model\n",
    "airfoil_tree.fit(x_trg, y_trg)\n",
    "print(\"Accuracy of Decision Tree model on training set is: \", airfoil_tree.score(x_trg, y_trg))\n",
    "print(\"Accuracy of Decision Tree model on test set ist: \", airfoil_tree.score(x_test, y_test))\n",
    "\n",
    "# Prediction via Decision Tree\n",
    "airfoil_tree_pred = airfoil_tree.predict(x_test)\n",
    "\n",
    "# Compute the RMSE of Decision Tree\n",
    "airfoil_tree_rmse = sqrt(mean_squared_error(y_test, airfoil_tree_pred))\n",
    "print(\"RMSE value of Decision Tree model is: \", airfoil_tree_rmse)"
   ]
  }
 ],
 "metadata": {
  "kernelspec": {
   "display_name": "Python 3",
   "language": "python",
   "name": "python3"
  },
  "language_info": {
   "codemirror_mode": {
    "name": "ipython",
    "version": 3
   },
   "file_extension": ".py",
   "mimetype": "text/x-python",
   "name": "python",
   "nbconvert_exporter": "python",
   "pygments_lexer": "ipython3",
   "version": "3.8.6"
  }
 },
 "nbformat": 4,
 "nbformat_minor": 4
}
