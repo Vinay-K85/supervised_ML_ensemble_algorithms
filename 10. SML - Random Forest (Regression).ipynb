{
 "cells": [
  {
   "cell_type": "markdown",
   "metadata": {},
   "source": [
    "# Random Forest (Regression)\n",
    "\n",
    "Data Source: [Energy Efficiency](\"https://archive.ics.uci.edu/ml/datasets/energy+efficiency\")\n",
    "\n",
    "**Data Attributes**\n",
    "\n",
    "The dataset contains eight attributes (or features, denoted by X1...X8) and two responses (or outcomes, denoted by y1 and y2). The aim is to use the eight features to predict each of the two responses. \n",
    "\n",
    "Specifically:\n",
    "- X1 Relative Compactness\n",
    "- X2 Surface Area\n",
    "- X3 Wall Area\n",
    "- X4 Roof Area\n",
    "- X5 Overall Height\n",
    "- X6 Orientation\n",
    "- X7 Glazing Area\n",
    "- X8 Glazing Area Distribution\n",
    "- y1 Heating Load\n",
    "- y2 Cooling Load"
   ]
  },
  {
   "cell_type": "code",
   "execution_count": 1,
   "metadata": {},
   "outputs": [],
   "source": [
    "# Importing the necessary packages\n",
    "import numpy as np\n",
    "import pandas as pd\n",
    "from sklearn.ensemble import RandomForestRegressor, BaggingRegressor\n",
    "from sklearn.tree import DecisionTreeRegressor\n",
    "from sklearn.metrics import mean_squared_error\n",
    "from sklearn.model_selection import train_test_split\n",
    "from math import sqrt\n",
    "import warnings\n",
    "warnings.filterwarnings(\"ignore\")"
   ]
  },
  {
   "cell_type": "code",
   "execution_count": 2,
   "metadata": {},
   "outputs": [
    {
     "data": {
      "text/html": [
       "<div>\n",
       "<style scoped>\n",
       "    .dataframe tbody tr th:only-of-type {\n",
       "        vertical-align: middle;\n",
       "    }\n",
       "\n",
       "    .dataframe tbody tr th {\n",
       "        vertical-align: top;\n",
       "    }\n",
       "\n",
       "    .dataframe thead th {\n",
       "        text-align: right;\n",
       "    }\n",
       "</style>\n",
       "<table border=\"1\" class=\"dataframe\">\n",
       "  <thead>\n",
       "    <tr style=\"text-align: right;\">\n",
       "      <th></th>\n",
       "      <th>X1</th>\n",
       "      <th>X2</th>\n",
       "      <th>X3</th>\n",
       "      <th>X4</th>\n",
       "      <th>X5</th>\n",
       "      <th>X6</th>\n",
       "      <th>X7</th>\n",
       "      <th>X8</th>\n",
       "      <th>Y1</th>\n",
       "      <th>Y2</th>\n",
       "      <th>Unnamed: 10</th>\n",
       "      <th>Unnamed: 11</th>\n",
       "    </tr>\n",
       "  </thead>\n",
       "  <tbody>\n",
       "    <tr>\n",
       "      <th>0</th>\n",
       "      <td>0.98</td>\n",
       "      <td>514.5</td>\n",
       "      <td>294.0</td>\n",
       "      <td>110.25</td>\n",
       "      <td>7.0</td>\n",
       "      <td>2.0</td>\n",
       "      <td>0.0</td>\n",
       "      <td>0.0</td>\n",
       "      <td>15.55</td>\n",
       "      <td>21.33</td>\n",
       "      <td>NaN</td>\n",
       "      <td>NaN</td>\n",
       "    </tr>\n",
       "    <tr>\n",
       "      <th>1</th>\n",
       "      <td>0.98</td>\n",
       "      <td>514.5</td>\n",
       "      <td>294.0</td>\n",
       "      <td>110.25</td>\n",
       "      <td>7.0</td>\n",
       "      <td>3.0</td>\n",
       "      <td>0.0</td>\n",
       "      <td>0.0</td>\n",
       "      <td>15.55</td>\n",
       "      <td>21.33</td>\n",
       "      <td>NaN</td>\n",
       "      <td>NaN</td>\n",
       "    </tr>\n",
       "    <tr>\n",
       "      <th>2</th>\n",
       "      <td>0.98</td>\n",
       "      <td>514.5</td>\n",
       "      <td>294.0</td>\n",
       "      <td>110.25</td>\n",
       "      <td>7.0</td>\n",
       "      <td>4.0</td>\n",
       "      <td>0.0</td>\n",
       "      <td>0.0</td>\n",
       "      <td>15.55</td>\n",
       "      <td>21.33</td>\n",
       "      <td>NaN</td>\n",
       "      <td>NaN</td>\n",
       "    </tr>\n",
       "    <tr>\n",
       "      <th>3</th>\n",
       "      <td>0.98</td>\n",
       "      <td>514.5</td>\n",
       "      <td>294.0</td>\n",
       "      <td>110.25</td>\n",
       "      <td>7.0</td>\n",
       "      <td>5.0</td>\n",
       "      <td>0.0</td>\n",
       "      <td>0.0</td>\n",
       "      <td>15.55</td>\n",
       "      <td>21.33</td>\n",
       "      <td>NaN</td>\n",
       "      <td>NaN</td>\n",
       "    </tr>\n",
       "    <tr>\n",
       "      <th>4</th>\n",
       "      <td>0.90</td>\n",
       "      <td>563.5</td>\n",
       "      <td>318.5</td>\n",
       "      <td>122.50</td>\n",
       "      <td>7.0</td>\n",
       "      <td>2.0</td>\n",
       "      <td>0.0</td>\n",
       "      <td>0.0</td>\n",
       "      <td>20.84</td>\n",
       "      <td>28.28</td>\n",
       "      <td>NaN</td>\n",
       "      <td>NaN</td>\n",
       "    </tr>\n",
       "  </tbody>\n",
       "</table>\n",
       "</div>"
      ],
      "text/plain": [
       "     X1     X2     X3      X4   X5   X6   X7   X8     Y1     Y2  Unnamed: 10  \\\n",
       "0  0.98  514.5  294.0  110.25  7.0  2.0  0.0  0.0  15.55  21.33          NaN   \n",
       "1  0.98  514.5  294.0  110.25  7.0  3.0  0.0  0.0  15.55  21.33          NaN   \n",
       "2  0.98  514.5  294.0  110.25  7.0  4.0  0.0  0.0  15.55  21.33          NaN   \n",
       "3  0.98  514.5  294.0  110.25  7.0  5.0  0.0  0.0  15.55  21.33          NaN   \n",
       "4  0.90  563.5  318.5  122.50  7.0  2.0  0.0  0.0  20.84  28.28          NaN   \n",
       "\n",
       "   Unnamed: 11  \n",
       "0          NaN  \n",
       "1          NaN  \n",
       "2          NaN  \n",
       "3          NaN  \n",
       "4          NaN  "
      ]
     },
     "execution_count": 2,
     "metadata": {},
     "output_type": "execute_result"
    }
   ],
   "source": [
    "# Load and read the dataset\n",
    "energy = pd.read_csv(\"./energy/ENB2012_data.csv\")\n",
    "energy.head()"
   ]
  },
  {
   "cell_type": "code",
   "execution_count": 3,
   "metadata": {},
   "outputs": [
    {
     "data": {
      "text/html": [
       "<div>\n",
       "<style scoped>\n",
       "    .dataframe tbody tr th:only-of-type {\n",
       "        vertical-align: middle;\n",
       "    }\n",
       "\n",
       "    .dataframe tbody tr th {\n",
       "        vertical-align: top;\n",
       "    }\n",
       "\n",
       "    .dataframe thead th {\n",
       "        text-align: right;\n",
       "    }\n",
       "</style>\n",
       "<table border=\"1\" class=\"dataframe\">\n",
       "  <thead>\n",
       "    <tr style=\"text-align: right;\">\n",
       "      <th></th>\n",
       "      <th>X1</th>\n",
       "      <th>X2</th>\n",
       "      <th>X3</th>\n",
       "      <th>X4</th>\n",
       "      <th>X5</th>\n",
       "      <th>X6</th>\n",
       "      <th>X7</th>\n",
       "      <th>X8</th>\n",
       "      <th>Y1</th>\n",
       "      <th>Y2</th>\n",
       "    </tr>\n",
       "  </thead>\n",
       "  <tbody>\n",
       "    <tr>\n",
       "      <th>0</th>\n",
       "      <td>0.98</td>\n",
       "      <td>514.5</td>\n",
       "      <td>294.0</td>\n",
       "      <td>110.25</td>\n",
       "      <td>7.0</td>\n",
       "      <td>2.0</td>\n",
       "      <td>0.0</td>\n",
       "      <td>0.0</td>\n",
       "      <td>15.55</td>\n",
       "      <td>21.33</td>\n",
       "    </tr>\n",
       "    <tr>\n",
       "      <th>1</th>\n",
       "      <td>0.98</td>\n",
       "      <td>514.5</td>\n",
       "      <td>294.0</td>\n",
       "      <td>110.25</td>\n",
       "      <td>7.0</td>\n",
       "      <td>3.0</td>\n",
       "      <td>0.0</td>\n",
       "      <td>0.0</td>\n",
       "      <td>15.55</td>\n",
       "      <td>21.33</td>\n",
       "    </tr>\n",
       "    <tr>\n",
       "      <th>2</th>\n",
       "      <td>0.98</td>\n",
       "      <td>514.5</td>\n",
       "      <td>294.0</td>\n",
       "      <td>110.25</td>\n",
       "      <td>7.0</td>\n",
       "      <td>4.0</td>\n",
       "      <td>0.0</td>\n",
       "      <td>0.0</td>\n",
       "      <td>15.55</td>\n",
       "      <td>21.33</td>\n",
       "    </tr>\n",
       "    <tr>\n",
       "      <th>3</th>\n",
       "      <td>0.98</td>\n",
       "      <td>514.5</td>\n",
       "      <td>294.0</td>\n",
       "      <td>110.25</td>\n",
       "      <td>7.0</td>\n",
       "      <td>5.0</td>\n",
       "      <td>0.0</td>\n",
       "      <td>0.0</td>\n",
       "      <td>15.55</td>\n",
       "      <td>21.33</td>\n",
       "    </tr>\n",
       "    <tr>\n",
       "      <th>4</th>\n",
       "      <td>0.90</td>\n",
       "      <td>563.5</td>\n",
       "      <td>318.5</td>\n",
       "      <td>122.50</td>\n",
       "      <td>7.0</td>\n",
       "      <td>2.0</td>\n",
       "      <td>0.0</td>\n",
       "      <td>0.0</td>\n",
       "      <td>20.84</td>\n",
       "      <td>28.28</td>\n",
       "    </tr>\n",
       "  </tbody>\n",
       "</table>\n",
       "</div>"
      ],
      "text/plain": [
       "     X1     X2     X3      X4   X5   X6   X7   X8     Y1     Y2\n",
       "0  0.98  514.5  294.0  110.25  7.0  2.0  0.0  0.0  15.55  21.33\n",
       "1  0.98  514.5  294.0  110.25  7.0  3.0  0.0  0.0  15.55  21.33\n",
       "2  0.98  514.5  294.0  110.25  7.0  4.0  0.0  0.0  15.55  21.33\n",
       "3  0.98  514.5  294.0  110.25  7.0  5.0  0.0  0.0  15.55  21.33\n",
       "4  0.90  563.5  318.5  122.50  7.0  2.0  0.0  0.0  20.84  28.28"
      ]
     },
     "execution_count": 3,
     "metadata": {},
     "output_type": "execute_result"
    }
   ],
   "source": [
    "# Drop the last two columns from the dataset\n",
    "energy.drop([\"Unnamed: 10\", \"Unnamed: 11\"], axis = 1, inplace = True)\n",
    "energy.head()"
   ]
  },
  {
   "cell_type": "code",
   "execution_count": 4,
   "metadata": {},
   "outputs": [
    {
     "name": "stdout",
     "output_type": "stream",
     "text": [
      "Dimenions of dataset are:  (1296, 10)\n",
      "The variables present in dataset are: \n",
      " Index(['X1', 'X2', 'X3', 'X4', 'X5', 'X6', 'X7', 'X8', 'Y1', 'Y2'], dtype='object')\n"
     ]
    }
   ],
   "source": [
    "# Display the characterictics of dataset\n",
    "print(\"Dimenions of dataset are: \", energy.shape)\n",
    "print(\"The variables present in dataset are: \\n\", energy.columns)"
   ]
  },
  {
   "cell_type": "code",
   "execution_count": 5,
   "metadata": {},
   "outputs": [
    {
     "name": "stdout",
     "output_type": "stream",
     "text": [
      "       X1     X2     X3      X4   X5   X6   X7   X8     Y1     Y2\n",
      "0    0.98  514.5  294.0  110.25  7.0  2.0  0.0  0.0  15.55  21.33\n",
      "1    0.98  514.5  294.0  110.25  7.0  3.0  0.0  0.0  15.55  21.33\n",
      "2    0.98  514.5  294.0  110.25  7.0  4.0  0.0  0.0  15.55  21.33\n",
      "3    0.98  514.5  294.0  110.25  7.0  5.0  0.0  0.0  15.55  21.33\n",
      "4    0.90  563.5  318.5  122.50  7.0  2.0  0.0  0.0  20.84  28.28\n",
      "..    ...    ...    ...     ...  ...  ...  ...  ...    ...    ...\n",
      "763  0.64  784.0  343.0  220.50  3.5  5.0  0.4  5.0  17.88  21.40\n",
      "764  0.62  808.5  367.5  220.50  3.5  2.0  0.4  5.0  16.54  16.88\n",
      "765  0.62  808.5  367.5  220.50  3.5  3.0  0.4  5.0  16.44  17.11\n",
      "766  0.62  808.5  367.5  220.50  3.5  4.0  0.4  5.0  16.48  16.61\n",
      "767  0.62  808.5  367.5  220.50  3.5  5.0  0.4  5.0  16.64  16.03\n",
      "\n",
      "[768 rows x 10 columns]\n"
     ]
    }
   ],
   "source": [
    "# Convert the datatype from object to floats\n",
    "energy.apply(pd.to_numeric)\n",
    "\n",
    "# For the sake of simplicity lets drop the missing values\n",
    "energy = energy.dropna()\n",
    "print(energy)"
   ]
  },
  {
   "cell_type": "code",
   "execution_count": 6,
   "metadata": {},
   "outputs": [
    {
     "data": {
      "text/html": [
       "<div>\n",
       "<style scoped>\n",
       "    .dataframe tbody tr th:only-of-type {\n",
       "        vertical-align: middle;\n",
       "    }\n",
       "\n",
       "    .dataframe tbody tr th {\n",
       "        vertical-align: top;\n",
       "    }\n",
       "\n",
       "    .dataframe thead th {\n",
       "        text-align: right;\n",
       "    }\n",
       "</style>\n",
       "<table border=\"1\" class=\"dataframe\">\n",
       "  <thead>\n",
       "    <tr style=\"text-align: right;\">\n",
       "      <th></th>\n",
       "      <th>X1</th>\n",
       "      <th>X2</th>\n",
       "      <th>X3</th>\n",
       "      <th>X4</th>\n",
       "      <th>X5</th>\n",
       "      <th>X6</th>\n",
       "      <th>X7</th>\n",
       "      <th>X8</th>\n",
       "      <th>Y1</th>\n",
       "      <th>Y2</th>\n",
       "    </tr>\n",
       "  </thead>\n",
       "  <tbody>\n",
       "    <tr>\n",
       "      <th>0</th>\n",
       "      <td>0.98</td>\n",
       "      <td>514.5</td>\n",
       "      <td>294.0</td>\n",
       "      <td>110.25</td>\n",
       "      <td>7.0</td>\n",
       "      <td>2.0</td>\n",
       "      <td>0.0</td>\n",
       "      <td>0.0</td>\n",
       "      <td>15.55</td>\n",
       "      <td>21.33</td>\n",
       "    </tr>\n",
       "    <tr>\n",
       "      <th>1</th>\n",
       "      <td>0.98</td>\n",
       "      <td>514.5</td>\n",
       "      <td>294.0</td>\n",
       "      <td>110.25</td>\n",
       "      <td>7.0</td>\n",
       "      <td>3.0</td>\n",
       "      <td>0.0</td>\n",
       "      <td>0.0</td>\n",
       "      <td>15.55</td>\n",
       "      <td>21.33</td>\n",
       "    </tr>\n",
       "    <tr>\n",
       "      <th>2</th>\n",
       "      <td>0.98</td>\n",
       "      <td>514.5</td>\n",
       "      <td>294.0</td>\n",
       "      <td>110.25</td>\n",
       "      <td>7.0</td>\n",
       "      <td>4.0</td>\n",
       "      <td>0.0</td>\n",
       "      <td>0.0</td>\n",
       "      <td>15.55</td>\n",
       "      <td>21.33</td>\n",
       "    </tr>\n",
       "    <tr>\n",
       "      <th>3</th>\n",
       "      <td>0.98</td>\n",
       "      <td>514.5</td>\n",
       "      <td>294.0</td>\n",
       "      <td>110.25</td>\n",
       "      <td>7.0</td>\n",
       "      <td>5.0</td>\n",
       "      <td>0.0</td>\n",
       "      <td>0.0</td>\n",
       "      <td>15.55</td>\n",
       "      <td>21.33</td>\n",
       "    </tr>\n",
       "    <tr>\n",
       "      <th>4</th>\n",
       "      <td>0.90</td>\n",
       "      <td>563.5</td>\n",
       "      <td>318.5</td>\n",
       "      <td>122.50</td>\n",
       "      <td>7.0</td>\n",
       "      <td>2.0</td>\n",
       "      <td>0.0</td>\n",
       "      <td>0.0</td>\n",
       "      <td>20.84</td>\n",
       "      <td>28.28</td>\n",
       "    </tr>\n",
       "  </tbody>\n",
       "</table>\n",
       "</div>"
      ],
      "text/plain": [
       "     X1     X2     X3      X4   X5   X6   X7   X8     Y1     Y2\n",
       "0  0.98  514.5  294.0  110.25  7.0  2.0  0.0  0.0  15.55  21.33\n",
       "1  0.98  514.5  294.0  110.25  7.0  3.0  0.0  0.0  15.55  21.33\n",
       "2  0.98  514.5  294.0  110.25  7.0  4.0  0.0  0.0  15.55  21.33\n",
       "3  0.98  514.5  294.0  110.25  7.0  5.0  0.0  0.0  15.55  21.33\n",
       "4  0.90  563.5  318.5  122.50  7.0  2.0  0.0  0.0  20.84  28.28"
      ]
     },
     "execution_count": 6,
     "metadata": {},
     "output_type": "execute_result"
    }
   ],
   "source": [
    "# Convert it into dataframe\n",
    "energy = pd.DataFrame(energy)\n",
    "energy.head()"
   ]
  },
  {
   "cell_type": "code",
   "execution_count": 7,
   "metadata": {},
   "outputs": [
    {
     "name": "stdout",
     "output_type": "stream",
     "text": [
      "<class 'pandas.core.frame.DataFrame'>\n",
      "Int64Index: 768 entries, 0 to 767\n",
      "Data columns (total 10 columns):\n",
      " #   Column  Non-Null Count  Dtype  \n",
      "---  ------  --------------  -----  \n",
      " 0   X1      768 non-null    float64\n",
      " 1   X2      768 non-null    float64\n",
      " 2   X3      768 non-null    float64\n",
      " 3   X4      768 non-null    float64\n",
      " 4   X5      768 non-null    float64\n",
      " 5   X6      768 non-null    float64\n",
      " 6   X7      768 non-null    float64\n",
      " 7   X8      768 non-null    float64\n",
      " 8   Y1      768 non-null    float64\n",
      " 9   Y2      768 non-null    float64\n",
      "dtypes: float64(10)\n",
      "memory usage: 66.0 KB\n"
     ]
    }
   ],
   "source": [
    "# Check the information of dataframe\n",
    "energy.info()"
   ]
  },
  {
   "cell_type": "code",
   "execution_count": 8,
   "metadata": {},
   "outputs": [
    {
     "name": "stdout",
     "output_type": "stream",
     "text": [
      "The null values in the dataset are: \n",
      " X1    0\n",
      "X2    0\n",
      "X3    0\n",
      "X4    0\n",
      "X5    0\n",
      "X6    0\n",
      "X7    0\n",
      "X8    0\n",
      "Y1    0\n",
      "Y2    0\n",
      "dtype: int64\n",
      "The not applicable values in the dataset are: \n",
      " <bound method NDFrame._add_numeric_operations.<locals>.sum of         X1     X2     X3     X4     X5     X6     X7     X8     Y1     Y2\n",
      "0    False  False  False  False  False  False  False  False  False  False\n",
      "1    False  False  False  False  False  False  False  False  False  False\n",
      "2    False  False  False  False  False  False  False  False  False  False\n",
      "3    False  False  False  False  False  False  False  False  False  False\n",
      "4    False  False  False  False  False  False  False  False  False  False\n",
      "..     ...    ...    ...    ...    ...    ...    ...    ...    ...    ...\n",
      "763  False  False  False  False  False  False  False  False  False  False\n",
      "764  False  False  False  False  False  False  False  False  False  False\n",
      "765  False  False  False  False  False  False  False  False  False  False\n",
      "766  False  False  False  False  False  False  False  False  False  False\n",
      "767  False  False  False  False  False  False  False  False  False  False\n",
      "\n",
      "[768 rows x 10 columns]>\n"
     ]
    }
   ],
   "source": [
    "# Check the missing values\n",
    "print(\"The null values in the dataset are: \\n\", energy.isnull().sum())\n",
    "print(\"The not applicable values in the dataset are: \\n\", energy.isna().sum)"
   ]
  },
  {
   "cell_type": "code",
   "execution_count": 9,
   "metadata": {},
   "outputs": [],
   "source": [
    "# Using random seed function to generate the same dataset\n",
    "np.random.seed(3000)"
   ]
  },
  {
   "cell_type": "code",
   "execution_count": 10,
   "metadata": {},
   "outputs": [],
   "source": [
    "# Train-Test Split of independent and dependent features\n",
    "# Let's consider y2 as dependent feature\n",
    "training, test = train_test_split(energy, test_size = 0.3)\n",
    "\n",
    "x_trg = training.drop([\"Y1\", \"Y2\"], axis = 1)\n",
    "y_trg = training[\"Y2\"]\n",
    "\n",
    "x_test = test.drop([\"Y1\", \"Y2\"], axis = 1)\n",
    "y_test = test[\"Y2\"]"
   ]
  },
  {
   "cell_type": "markdown",
   "metadata": {},
   "source": [
    "### Creating a Random Forest model"
   ]
  },
  {
   "cell_type": "code",
   "execution_count": 11,
   "metadata": {},
   "outputs": [
    {
     "data": {
      "text/plain": [
       "RandomForestRegressor(random_state=0)"
      ]
     },
     "execution_count": 11,
     "metadata": {},
     "output_type": "execute_result"
    }
   ],
   "source": [
    "# Model Building - Random Forest\n",
    "energy_forest = RandomForestRegressor(random_state = 0)\n",
    "\n",
    "# Fit the model\n",
    "energy_forest.fit(x_trg, y_trg)"
   ]
  },
  {
   "cell_type": "code",
   "execution_count": 12,
   "metadata": {},
   "outputs": [
    {
     "name": "stdout",
     "output_type": "stream",
     "text": [
      "The accuracy on training set is:  0.9954309205360165\n",
      "The accuracy on test set is:  0.9672820046856093\n"
     ]
    }
   ],
   "source": [
    "# Compute the accuracy of the Random Forst model\n",
    "print(\"The accuracy on training set is: \", energy_forest.score(x_trg, y_trg))\n",
    "print(\"The accuracy on test set is: \", energy_forest.score(x_test, y_test))"
   ]
  },
  {
   "cell_type": "code",
   "execution_count": 13,
   "metadata": {},
   "outputs": [],
   "source": [
    "# Prediction via Random Forest model\n",
    "pred_forest = energy_forest.predict(x_test)"
   ]
  },
  {
   "cell_type": "code",
   "execution_count": 14,
   "metadata": {},
   "outputs": [
    {
     "data": {
      "text/plain": [
       "array([30.2544, 13.622 , 39.2688, 13.435 , 16.3947, 31.6078, 19.3502,\n",
       "       29.7503, 15.9719, 44.4337, 39.9382, 16.3137, 16.1919, 15.9243,\n",
       "       14.6884, 15.99  , 15.8719, 32.493 , 41.7103, 15.1397, 41.0268,\n",
       "       41.7555, 34.5523, 33.2598, 27.1518, 13.6462, 35.3317, 36.5708,\n",
       "       14.1771, 40.2632, 14.2888, 33.92  , 15.8751, 37.2368, 14.0938,\n",
       "       15.2774, 11.8703, 19.255 , 16.0319, 41.1288, 17.1529, 15.0968,\n",
       "       28.2135, 15.8532, 33.2757, 25.9456, 16.72  , 33.7575, 14.2385,\n",
       "       14.1544, 22.0791, 13.8093, 29.9907, 41.2563, 15.9869, 39.3578,\n",
       "       15.4253, 33.4892, 14.8942, 16.3771, 29.7864, 13.5871, 14.3185,\n",
       "       15.5903, 23.9204, 39.4692, 30.463 , 38.9331, 41.3766, 18.0214,\n",
       "       30.311 , 40.5258, 19.2813, 39.1713, 25.9859, 15.935 , 17.0418,\n",
       "       16.2579, 18.1617, 20.302 , 26.8757, 18.0157, 33.1501, 14.0981,\n",
       "       33.697 , 14.3777, 17.1166, 12.3531, 17.1473, 39.1947, 32.3387,\n",
       "       16.3426, 44.2446, 14.6336, 10.9656, 14.2847, 33.8649, 14.3004,\n",
       "       31.1141, 39.8614, 24.4729, 17.0512, 40.5476, 14.2679, 15.5992,\n",
       "       27.2963, 32.4322, 14.6249, 20.1003, 16.9922, 37.2157, 34.8749,\n",
       "       34.9631, 15.8709, 17.0471, 38.8024, 14.1133, 33.8998, 13.6179,\n",
       "       15.1478, 27.2345, 17.0692, 25.8705, 16.7524, 30.353 , 39.4312,\n",
       "       15.4249, 15.0643, 37.4419, 35.6086, 25.4573, 17.9103, 39.2421,\n",
       "       17.3476, 26.0151, 11.8544, 34.1214, 14.3194, 29.1732, 22.6864,\n",
       "       13.4018, 27.9347, 39.9589, 36.9765, 33.847 , 14.8537, 13.7876,\n",
       "       25.3528, 33.835 , 14.9194, 13.5871, 25.975 , 14.8461, 15.6656,\n",
       "       24.7304, 15.5078, 14.2254, 28.713 , 19.3311, 38.8552, 37.1702,\n",
       "       15.3416, 19.343 , 13.9955, 19.3192, 19.9451, 14.7277, 16.0955,\n",
       "       31.4175, 19.3343, 26.5448, 14.6798, 17.252 , 26.5455, 16.6934,\n",
       "       33.4905, 16.0237, 32.878 , 15.1806, 35.9068, 33.9414, 30.4086,\n",
       "       15.5414, 18.1287, 30.382 , 26.0302, 36.5375, 25.9278, 34.6715,\n",
       "       37.269 , 36.395 , 32.171 , 40.1393, 13.8957, 17.4551, 31.7929,\n",
       "       22.98  , 15.2853, 34.0608, 15.6523, 13.4917, 13.6462, 33.1582,\n",
       "       13.5727, 39.4478, 13.622 , 17.1749, 32.6499, 14.0054, 17.5518,\n",
       "       37.1005, 17.571 , 25.8064, 16.4783, 37.5486, 16.6575, 26.8847,\n",
       "       15.0387, 14.303 , 20.0775, 14.0001, 29.9718, 30.1201, 27.1219,\n",
       "       16.9824, 13.7816, 33.2181, 37.5774, 14.2976, 25.6281, 32.4878])"
      ]
     },
     "execution_count": 14,
     "metadata": {},
     "output_type": "execute_result"
    }
   ],
   "source": [
    "pred_forest"
   ]
  },
  {
   "cell_type": "code",
   "execution_count": 15,
   "metadata": {},
   "outputs": [
    {
     "name": "stdout",
     "output_type": "stream",
     "text": [
      "The RMSE value for Random Forest model is:  1.8041210522132292\n"
     ]
    }
   ],
   "source": [
    "# Compute the RMSE for the model\n",
    "rmse_forest = sqrt(mean_squared_error(y_test, pred_forest))\n",
    "print(\"The RMSE value for Random Forest model is: \", rmse_forest)"
   ]
  },
  {
   "cell_type": "markdown",
   "metadata": {},
   "source": [
    "#### Creating a Bagging Model"
   ]
  },
  {
   "cell_type": "code",
   "execution_count": 16,
   "metadata": {},
   "outputs": [
    {
     "name": "stdout",
     "output_type": "stream",
     "text": [
      "Accuracy of Bagging model on training set is:  0.9941567945050306\n",
      "Accuracy of Bagging model on test set is:  0.9632999806041446\n"
     ]
    }
   ],
   "source": [
    "# Model Building\n",
    "energy_bag = BaggingRegressor(random_state = 0)\n",
    "\n",
    "# Fit the model\n",
    "energy_bag.fit(x_trg, y_trg)\n",
    "print(\"Accuracy of Bagging model on training set is: \", energy_bag.score(x_trg, y_trg))\n",
    "print(\"Accuracy of Bagging model on test set is: \", energy_bag.score(x_test, y_test))"
   ]
  },
  {
   "cell_type": "code",
   "execution_count": 17,
   "metadata": {},
   "outputs": [
    {
     "name": "stdout",
     "output_type": "stream",
     "text": [
      "The RMSE of Bagging model is:  1.910757083471008\n"
     ]
    }
   ],
   "source": [
    "# Prediction via Bagging model\n",
    "energy_bag_pred = energy_bag.predict(x_test)\n",
    "\n",
    "# Compute the RMSE of Baggind model\n",
    "energy_bag_rmse = sqrt(mean_squared_error(y_test, energy_bag_pred))\n",
    "print(\"The RMSE of Bagging model is: \", energy_bag_rmse)"
   ]
  },
  {
   "cell_type": "markdown",
   "metadata": {},
   "source": [
    "#### Creating a Decision Tree Model"
   ]
  },
  {
   "cell_type": "code",
   "execution_count": 18,
   "metadata": {},
   "outputs": [
    {
     "name": "stdout",
     "output_type": "stream",
     "text": [
      "Features of the Decision Tree model for energy dataset are: \n",
      " [1.07801535e-02 2.01280741e-04 1.03957304e-01 6.00425845e-03\n",
      " 8.06400378e-01 1.30738165e-02 4.29857984e-02 1.65970109e-02]\n",
      "The RMSE of Decision Tree model is:  2.3587433370059854\n"
     ]
    }
   ],
   "source": [
    "# Model Building\n",
    "energy_bag_tree = DecisionTreeRegressor(random_state = 0)\n",
    "\n",
    "# Fit the model\n",
    "energy_bag_tree.fit(x_trg, y_trg)\n",
    "\n",
    "print(\"Features of the Decision Tree model for energy dataset are: \\n\", energy_bag_tree.feature_importances_)\n",
    "\n",
    "# Prediction via Decision Tree model\n",
    "energy_bag_pred = energy_bag_tree.predict(x_test)\n",
    "\n",
    "# Compute the RMSE of Decision Tree model\n",
    "energy_bag_tree_rmse = sqrt(mean_squared_error(y_test, energy_bag_pred))\n",
    "print(\"The RMSE of Decision Tree model is: \", energy_bag_tree_rmse)"
   ]
  },
  {
   "cell_type": "code",
   "execution_count": null,
   "metadata": {},
   "outputs": [],
   "source": []
  }
 ],
 "metadata": {
  "kernelspec": {
   "display_name": "Python 3",
   "language": "python",
   "name": "python3"
  },
  "language_info": {
   "codemirror_mode": {
    "name": "ipython",
    "version": 3
   },
   "file_extension": ".py",
   "mimetype": "text/x-python",
   "name": "python",
   "nbconvert_exporter": "python",
   "pygments_lexer": "ipython3",
   "version": "3.8.6"
  }
 },
 "nbformat": 4,
 "nbformat_minor": 4
}
