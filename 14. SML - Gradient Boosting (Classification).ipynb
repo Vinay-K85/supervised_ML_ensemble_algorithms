{
 "cells": [
  {
   "cell_type": "markdown",
   "metadata": {},
   "source": [
    "# Gradient Boosting (Classification)\n",
    "\n",
    "Data Source: [Wine Quality](\"https://archive.ics.uci.edu/ml/datasets/wine+quality\")\n",
    "\n",
    "**Data Set Information**\n",
    "\n",
    "The two datasets are related to red and white variants of the Portuguese \"Vinho Verde\" wine. For more details, consult: [Web Link] or the reference [Cortez et al., 2009]. Due to privacy and logistic issues, only physicochemical (inputs) and sensory (the output) variables are available (e.g. there is no data about grape types, wine brand, wine selling price, etc.).\n",
    "\n",
    "These datasets can be viewed as classification or regression tasks. The classes are ordered and not balanced (e.g. there are many more normal wines than excellent or poor ones). Outlier detection algorithms could be used to detect the few excellent or poor wines. Also, we are not sure if all input variables are relevant. So it could be interesting to test feature selection methods.\n",
    "\n",
    "**Attribute Information**\n",
    "\n",
    "For more information, read [Cortez et al., 2009].\n",
    "Input variables (based on physicochemical tests):\n",
    "\n",
    "- 1 - fixed acidity\n",
    "- 2 - volatile acidity\n",
    "- 3 - citric acid\n",
    "- 4 - residual sugar\n",
    "- 5 - chlorides\n",
    "- 6 - free sulfur dioxide\n",
    "- 7 - total sulfur dioxide\n",
    "- 8 - density\n",
    "- 9 - pH\n",
    "- 10 - sulphates\n",
    "- 11 - alcohol\n",
    "\n",
    "Output variable (based on sensory data):\n",
    "\n",
    "- 12 - quality (score between 0 and 10)"
   ]
  },
  {
   "cell_type": "code",
   "execution_count": 1,
   "metadata": {},
   "outputs": [],
   "source": [
    "# Importing the necessary packages\n",
    "import pandas as pd\n",
    "import numpy as np\n",
    "from sklearn.model_selection import train_test_split\n",
    "from sklearn.ensemble import GradientBoostingClassifier, AdaBoostClassifier, ExtraTreesClassifier\n",
    "from sklearn.ensemble import RandomForestClassifier, BaggingClassifier\n",
    "from sklearn.tree import DecisionTreeClassifier\n",
    "from sklearn.metrics import classification_report, accuracy_score, confusion_matrix\n",
    "import warnings\n",
    "warnings.filterwarnings(\"ignore\")"
   ]
  },
  {
   "cell_type": "code",
   "execution_count": 2,
   "metadata": {},
   "outputs": [
    {
     "data": {
      "text/html": [
       "<div>\n",
       "<style scoped>\n",
       "    .dataframe tbody tr th:only-of-type {\n",
       "        vertical-align: middle;\n",
       "    }\n",
       "\n",
       "    .dataframe tbody tr th {\n",
       "        vertical-align: top;\n",
       "    }\n",
       "\n",
       "    .dataframe thead th {\n",
       "        text-align: right;\n",
       "    }\n",
       "</style>\n",
       "<table border=\"1\" class=\"dataframe\">\n",
       "  <thead>\n",
       "    <tr style=\"text-align: right;\">\n",
       "      <th></th>\n",
       "      <th>fixed acidity</th>\n",
       "      <th>volatile acidity</th>\n",
       "      <th>citric acid</th>\n",
       "      <th>residual sugar</th>\n",
       "      <th>chlorides</th>\n",
       "      <th>free sulfur dioxide</th>\n",
       "      <th>total sulfur dioxide</th>\n",
       "      <th>density</th>\n",
       "      <th>pH</th>\n",
       "      <th>sulphates</th>\n",
       "      <th>alcohol</th>\n",
       "      <th>quality</th>\n",
       "    </tr>\n",
       "  </thead>\n",
       "  <tbody>\n",
       "    <tr>\n",
       "      <th>0</th>\n",
       "      <td>7.4</td>\n",
       "      <td>0.70</td>\n",
       "      <td>0.00</td>\n",
       "      <td>1.9</td>\n",
       "      <td>0.076</td>\n",
       "      <td>11.0</td>\n",
       "      <td>34.0</td>\n",
       "      <td>0.9978</td>\n",
       "      <td>3.51</td>\n",
       "      <td>0.56</td>\n",
       "      <td>9.4</td>\n",
       "      <td>5</td>\n",
       "    </tr>\n",
       "    <tr>\n",
       "      <th>1</th>\n",
       "      <td>7.8</td>\n",
       "      <td>0.88</td>\n",
       "      <td>0.00</td>\n",
       "      <td>2.6</td>\n",
       "      <td>0.098</td>\n",
       "      <td>25.0</td>\n",
       "      <td>67.0</td>\n",
       "      <td>0.9968</td>\n",
       "      <td>3.20</td>\n",
       "      <td>0.68</td>\n",
       "      <td>9.8</td>\n",
       "      <td>5</td>\n",
       "    </tr>\n",
       "    <tr>\n",
       "      <th>2</th>\n",
       "      <td>7.8</td>\n",
       "      <td>0.76</td>\n",
       "      <td>0.04</td>\n",
       "      <td>2.3</td>\n",
       "      <td>0.092</td>\n",
       "      <td>15.0</td>\n",
       "      <td>54.0</td>\n",
       "      <td>0.9970</td>\n",
       "      <td>3.26</td>\n",
       "      <td>0.65</td>\n",
       "      <td>9.8</td>\n",
       "      <td>5</td>\n",
       "    </tr>\n",
       "    <tr>\n",
       "      <th>3</th>\n",
       "      <td>11.2</td>\n",
       "      <td>0.28</td>\n",
       "      <td>0.56</td>\n",
       "      <td>1.9</td>\n",
       "      <td>0.075</td>\n",
       "      <td>17.0</td>\n",
       "      <td>60.0</td>\n",
       "      <td>0.9980</td>\n",
       "      <td>3.16</td>\n",
       "      <td>0.58</td>\n",
       "      <td>9.8</td>\n",
       "      <td>6</td>\n",
       "    </tr>\n",
       "    <tr>\n",
       "      <th>4</th>\n",
       "      <td>7.4</td>\n",
       "      <td>0.70</td>\n",
       "      <td>0.00</td>\n",
       "      <td>1.9</td>\n",
       "      <td>0.076</td>\n",
       "      <td>11.0</td>\n",
       "      <td>34.0</td>\n",
       "      <td>0.9978</td>\n",
       "      <td>3.51</td>\n",
       "      <td>0.56</td>\n",
       "      <td>9.4</td>\n",
       "      <td>5</td>\n",
       "    </tr>\n",
       "  </tbody>\n",
       "</table>\n",
       "</div>"
      ],
      "text/plain": [
       "   fixed acidity  volatile acidity  citric acid  residual sugar  chlorides  \\\n",
       "0            7.4              0.70         0.00             1.9      0.076   \n",
       "1            7.8              0.88         0.00             2.6      0.098   \n",
       "2            7.8              0.76         0.04             2.3      0.092   \n",
       "3           11.2              0.28         0.56             1.9      0.075   \n",
       "4            7.4              0.70         0.00             1.9      0.076   \n",
       "\n",
       "   free sulfur dioxide  total sulfur dioxide  density    pH  sulphates  \\\n",
       "0                 11.0                  34.0   0.9978  3.51       0.56   \n",
       "1                 25.0                  67.0   0.9968  3.20       0.68   \n",
       "2                 15.0                  54.0   0.9970  3.26       0.65   \n",
       "3                 17.0                  60.0   0.9980  3.16       0.58   \n",
       "4                 11.0                  34.0   0.9978  3.51       0.56   \n",
       "\n",
       "   alcohol  quality  \n",
       "0      9.4        5  \n",
       "1      9.8        5  \n",
       "2      9.8        5  \n",
       "3      9.8        6  \n",
       "4      9.4        5  "
      ]
     },
     "execution_count": 2,
     "metadata": {},
     "output_type": "execute_result"
    }
   ],
   "source": [
    "# Read the dataset\n",
    "wine = pd.read_csv(\"./wine_quality/winequality-red.csv\", delimiter = \";\")\n",
    "wine.head()"
   ]
  },
  {
   "cell_type": "code",
   "execution_count": 3,
   "metadata": {},
   "outputs": [
    {
     "name": "stdout",
     "output_type": "stream",
     "text": [
      "Dimensions of dataset are:  (1599, 12)\n",
      "The variables present in dataset are: \n",
      " Index(['fixed acidity', 'volatile acidity', 'citric acid', 'residual sugar',\n",
      "       'chlorides', 'free sulfur dioxide', 'total sulfur dioxide', 'density',\n",
      "       'pH', 'sulphates', 'alcohol', 'quality'],\n",
      "      dtype='object')\n"
     ]
    }
   ],
   "source": [
    "# Display the characteristics of dataset\n",
    "print(\"Dimensions of dataset are: \", wine.shape)\n",
    "print(\"The variables present in dataset are: \\n\", wine.columns)"
   ]
  },
  {
   "cell_type": "code",
   "execution_count": 4,
   "metadata": {},
   "outputs": [],
   "source": [
    "# Using random seed function to generate the same data\n",
    "np.random.seed(3000)"
   ]
  },
  {
   "cell_type": "code",
   "execution_count": 5,
   "metadata": {},
   "outputs": [],
   "source": [
    "# Train-Test Split\n",
    "# Dependent variable - quality\n",
    "training, test = train_test_split(wine, test_size = 0.3)\n",
    "\n",
    "x_trg = training.drop(\"quality\", axis = 1)\n",
    "y_trg = training[\"quality\"]\n",
    "\n",
    "x_test = test.drop(\"quality\", axis = 1)\n",
    "y_test = test[\"quality\"]"
   ]
  },
  {
   "cell_type": "markdown",
   "metadata": {},
   "source": [
    "### Creating a Gradient Boosting model"
   ]
  },
  {
   "cell_type": "code",
   "execution_count": 6,
   "metadata": {},
   "outputs": [
    {
     "name": "stdout",
     "output_type": "stream",
     "text": [
      "Accuracy of Gradient Boosting model on training set is:  0.9115281501340483\n",
      "Accuracy of Gradient Boosting model on test set is:  0.6729166666666667\n"
     ]
    }
   ],
   "source": [
    "# Model building - Gradient Boosting\n",
    "wine_grad = GradientBoostingClassifier(random_state = 0)\n",
    "\n",
    "# Fit the model\n",
    "wine_grad.fit(x_trg, y_trg)\n",
    "print(\"Accuracy of Gradient Boosting model on training set is: \", wine_grad.score(x_trg, y_trg))\n",
    "print(\"Accuracy of Gradient Boosting model on test set is: \", wine_grad.score(x_test, y_test))"
   ]
  },
  {
   "cell_type": "code",
   "execution_count": 7,
   "metadata": {},
   "outputs": [
    {
     "name": "stdout",
     "output_type": "stream",
     "text": [
      "Accuracy of Gradient Boosting model on prediction:  0.6729166666666667\n",
      "Confusion Matrix of Gradient Boosting model is: \n",
      " [[  0   0   1   1   0   0]\n",
      " [  0   0   9   4   0   0]\n",
      " [  0   1 176  32   1   0]\n",
      " [  1   2  63 119  12   4]\n",
      " [  0   0   4  17  27   1]\n",
      " [  0   0   0   3   1   1]]\n"
     ]
    }
   ],
   "source": [
    "# Determine the accuracy of Gradient Boosting model via Confusion matrix\n",
    "# Prediction via Gradient Boosting model\n",
    "wine_grad_pred = wine_grad.predict(x_test)\n",
    "\n",
    "# Compute the accuracy of prediction\n",
    "wine_grad_acc_score = accuracy_score(y_test, wine_grad_pred)\n",
    "print(\"Accuracy of Gradient Boosting model on prediction: \", wine_grad_acc_score)\n",
    "\n",
    "# Confusion Matrix\n",
    "wine_grad_results = confusion_matrix(y_test, wine_grad_pred)\n",
    "print(\"Confusion Matrix of Gradient Boosting model is: \\n\", wine_grad_results)"
   ]
  },
  {
   "cell_type": "markdown",
   "metadata": {},
   "source": [
    "#### Create a new Gradient Boosting model with Grid Search"
   ]
  },
  {
   "cell_type": "code",
   "execution_count": 8,
   "metadata": {},
   "outputs": [],
   "source": [
    "# Import the necessary package\n",
    "from sklearn.model_selection import GridSearchCV"
   ]
  },
  {
   "cell_type": "code",
   "execution_count": 9,
   "metadata": {},
   "outputs": [],
   "source": [
    "# Setting the parameters\n",
    "param_grid = {\"max_features\" : [\"auto\", \"sqrt\"], \"max_depth\" : [3,4], \"n_estimators\" : [50,100,200],\n",
    "             \"learning_rate\" : [0.05,0.1]}"
   ]
  },
  {
   "cell_type": "code",
   "execution_count": 10,
   "metadata": {},
   "outputs": [
    {
     "name": "stdout",
     "output_type": "stream",
     "text": [
      "Best Parameters are: \n",
      " {'learning_rate': 0.1, 'max_depth': 4, 'max_features': 'sqrt', 'n_estimators': 200}\n"
     ]
    }
   ],
   "source": [
    "# Model building - new Gradient Boosting model\n",
    "wine_grad_grid = GradientBoostingClassifier()\n",
    "wine_grad_CV = GridSearchCV(estimator = wine_grad_grid, param_grid = param_grid, cv = 5)\n",
    "\n",
    "# Fit the model\n",
    "wine_grad_result = wine_grad_CV.fit(x_trg, y_trg)\n",
    "print(\"Best Parameters are: \\n\", wine_grad_CV.best_params_)"
   ]
  },
  {
   "cell_type": "code",
   "execution_count": 11,
   "metadata": {},
   "outputs": [],
   "source": [
    "# Creating model with best scores\n",
    "wine_grad_best = GradientBoostingClassifier(max_depth = wine_grad_result.best_params_[\"max_depth\"],\n",
    "                        max_features = wine_grad_result.best_params_[\"max_features\"],\n",
    "                        n_estimators = wine_grad_result.best_params_[\"n_estimators\"],\n",
    "                        learning_rate = wine_grad_result.best_params_[\"learning_rate\"])"
   ]
  },
  {
   "cell_type": "markdown",
   "metadata": {},
   "source": [
    "#### Evaluating the model with best scores"
   ]
  },
  {
   "cell_type": "code",
   "execution_count": 12,
   "metadata": {},
   "outputs": [
    {
     "name": "stdout",
     "output_type": "stream",
     "text": [
      "Accuracy of GB model of best score on training set is:  1.0\n"
     ]
    }
   ],
   "source": [
    "# Fit the model\n",
    "wine_grad_best.fit(x_trg, y_trg)\n",
    "print(\"Accuracy of GB model of best score on training set is: \", wine_grad_best.score(x_trg, y_trg))"
   ]
  },
  {
   "cell_type": "code",
   "execution_count": 13,
   "metadata": {},
   "outputs": [
    {
     "name": "stdout",
     "output_type": "stream",
     "text": [
      "Classification Report of GB model with best scores: \n",
      "               precision    recall  f1-score   support\n",
      "\n",
      "           3       0.00      0.00      0.00         2\n",
      "           4       0.00      0.00      0.00        13\n",
      "           5       0.70      0.81      0.75       210\n",
      "           6       0.69      0.64      0.66       201\n",
      "           7       0.63      0.55      0.59        49\n",
      "           8       0.33      0.20      0.25         5\n",
      "\n",
      "    accuracy                           0.68       480\n",
      "   macro avg       0.39      0.37      0.38       480\n",
      "weighted avg       0.66      0.68      0.67       480\n",
      "\n"
     ]
    }
   ],
   "source": [
    "# Prediction via GB model with best scores\n",
    "wine_grad_pred_2 = wine_grad_best.predict(x_test)\n",
    "print(\"Classification Report of GB model with best scores: \\n\",\n",
    "      classification_report(y_test, wine_grad_pred_2))"
   ]
  },
  {
   "cell_type": "code",
   "execution_count": 14,
   "metadata": {},
   "outputs": [
    {
     "name": "stdout",
     "output_type": "stream",
     "text": [
      "Accuracy of GB model with best score is:  0.6833333333333333\n",
      "Confusion Matrix of GB model with best score is: \n",
      " [[  0   0   1   0   1   0]\n",
      " [  0   0   8   4   1   0]\n",
      " [  0   3 171  34   2   0]\n",
      " [  0   0  61 129   9   2]\n",
      " [  0   0   3  19  27   0]\n",
      " [  0   0   0   1   3   1]]\n"
     ]
    }
   ],
   "source": [
    "# Determine the accuracy of prediction via Confusion Matrix\n",
    "# Compute the accuracy score of prediction\n",
    "wine_grad_acc_score_2 = accuracy_score(y_test, wine_grad_pred_2)\n",
    "print(\"Accuracy of GB model with best score is: \", wine_grad_acc_score_2)\n",
    "\n",
    "# Confusion Matrix\n",
    "wine_grad_results_2 = confusion_matrix(y_test, wine_grad_pred_2)\n",
    "print(\"Confusion Matrix of GB model with best score is: \\n\", wine_grad_results_2)"
   ]
  },
  {
   "cell_type": "markdown",
   "metadata": {},
   "source": [
    "#### Creating AdaBoost model"
   ]
  },
  {
   "cell_type": "code",
   "execution_count": 15,
   "metadata": {},
   "outputs": [
    {
     "name": "stdout",
     "output_type": "stream",
     "text": [
      "Accuracy of AdaBoost model on training set is:  0.5442359249329759\n",
      "Accuracy of AdaBoost model on test set is:  0.56875\n",
      "Accuracy of AdaBoost model on prediction is:  0.56875\n",
      "Confusion Matrix of AdaBoost model: \n",
      " [[  0   0   2   0   0   0]\n",
      " [  0   0   8   4   0   1]\n",
      " [  0   0 181  27   0   2]\n",
      " [  0   0 107  92   0   2]\n",
      " [  0   0  13  36   0   0]\n",
      " [  0   0   0   5   0   0]]\n"
     ]
    }
   ],
   "source": [
    "# Model building - AdaBoost\n",
    "wine_ada = AdaBoostClassifier(random_state = 0)\n",
    "\n",
    "# Fit the model\n",
    "wine_ada.fit(x_trg, y_trg)\n",
    "print(\"Accuracy of AdaBoost model on training set is: \", wine_ada.score(x_trg, y_trg))\n",
    "print(\"Accuracy of AdaBoost model on test set is: \", wine_ada.score(x_test, y_test))\n",
    "\n",
    "# Prediction via AdaBoost\n",
    "wine_ada_pred = wine_ada.predict(x_test)\n",
    "\n",
    "# Compute the accuary of prediction\n",
    "wine_ada_acc_score = accuracy_score(y_test, wine_ada_pred)\n",
    "print(\"Accuracy of AdaBoost model on prediction is: \", wine_ada_acc_score)\n",
    "\n",
    "# Confusion Matrix\n",
    "wine_ada_results_2 = confusion_matrix(y_test, wine_ada_pred)\n",
    "print(\"Confusion Matrix of AdaBoost model: \\n\", wine_ada_results_2)"
   ]
  },
  {
   "cell_type": "markdown",
   "metadata": {},
   "source": [
    "#### Creating Extra Tree model"
   ]
  },
  {
   "cell_type": "code",
   "execution_count": 16,
   "metadata": {},
   "outputs": [
    {
     "name": "stdout",
     "output_type": "stream",
     "text": [
      "Accuracy of Extra Tree model on training set is:  1.0\n",
      "Accuracy of Extra Tree model on test set is:  0.6916666666666667\n",
      "Accruacy of Extra Tree model on prediction is:  0.6916666666666667\n",
      "Confusion Matrix of Extra Tree model: \n",
      " [[  0   0   1   1   0   0]\n",
      " [  0   0   9   4   0   0]\n",
      " [  0   1 176  33   0   0]\n",
      " [  0   0  64 128   9   0]\n",
      " [  0   0   4  18  27   0]\n",
      " [  0   0   0   1   3   1]]\n"
     ]
    }
   ],
   "source": [
    "# Model building - Extra Tree\n",
    "wine_extratree = ExtraTreesClassifier()\n",
    "\n",
    "# Fit the model\n",
    "wine_extratree.fit(x_trg, y_trg)\n",
    "print(\"Accuracy of Extra Tree model on training set is: \", wine_extratree.score(x_trg, y_trg))\n",
    "print(\"Accuracy of Extra Tree model on test set is: \", wine_extratree.score(x_test, y_test))\n",
    "\n",
    "# Prediction via Extra Tree\n",
    "wine_extratree_pred = wine_extratree.predict(x_test)\n",
    "\n",
    "# Compute the accuracy score on prediction\n",
    "wine_extratree_acc_score = accuracy_score(y_test, wine_extratree_pred)\n",
    "print(\"Accruacy of Extra Tree model on prediction is: \", wine_extratree_acc_score)\n",
    "\n",
    "# Confusion Matrix\n",
    "wine_extratree_results = confusion_matrix(y_test, wine_extratree_pred)\n",
    "print(\"Confusion Matrix of Extra Tree model: \\n\", wine_extratree_results)"
   ]
  },
  {
   "cell_type": "markdown",
   "metadata": {},
   "source": [
    "#### Creating Random Forest model"
   ]
  },
  {
   "cell_type": "code",
   "execution_count": 17,
   "metadata": {},
   "outputs": [
    {
     "name": "stdout",
     "output_type": "stream",
     "text": [
      "Accuracy of Random Forest model on training set is:  1.0\n",
      "Accuracy of Random Forest model on test set is:  0.69375\n",
      "Accuracy score of Random Forest on prediction is:  0.69375\n",
      "Confusion Matrix of Random Forest is: \n",
      " [[  0   0   1   1   0   0]\n",
      " [  0   0   9   4   0   0]\n",
      " [  0   0 175  35   0   0]\n",
      " [  0   1  64 127   9   0]\n",
      " [  0   0   4  15  30   0]\n",
      " [  0   0   0   2   2   1]]\n"
     ]
    }
   ],
   "source": [
    "# Model building - Random Forest\n",
    "wine_forest = RandomForestClassifier(random_state = 0)\n",
    "\n",
    "# Fit the model\n",
    "wine_forest.fit(x_trg, y_trg)\n",
    "print(\"Accuracy of Random Forest model on training set is: \", wine_forest.score(x_trg, y_trg))\n",
    "print(\"Accuracy of Random Forest model on test set is: \", wine_forest.score(x_test, y_test))\n",
    "\n",
    "# Prediction via Random Forest\n",
    "wine_forest_pred = wine_forest.predict(x_test)\n",
    "\n",
    "# Compute the accuracy of prediction\n",
    "wine_forest_acc_score = accuracy_score(y_test, wine_forest_pred)\n",
    "print(\"Accuracy score of Random Forest on prediction is: \", wine_forest_acc_score)\n",
    "\n",
    "# Confusion Matrix\n",
    "wine_forest_results = confusion_matrix(y_test, wine_forest_pred)\n",
    "print(\"Confusion Matrix of Random Forest is: \\n\", wine_forest_results)"
   ]
  },
  {
   "cell_type": "markdown",
   "metadata": {},
   "source": [
    "#### Creating Bagging model"
   ]
  },
  {
   "cell_type": "code",
   "execution_count": 18,
   "metadata": {},
   "outputs": [
    {
     "name": "stdout",
     "output_type": "stream",
     "text": [
      "Accuracy of Bagging model on trainig set is:  0.9830205540661304\n",
      "Accuracy of Bagging model on test set is:  0.66875\n",
      "Accuracy score of Bagging model on prediction is:  0.66875\n",
      "Confusion Matrix of Bagging model is: \n",
      " [[  0   0   1   1   0   0]\n",
      " [  0   2   6   5   0   0]\n",
      " [  0   2 171  37   0   0]\n",
      " [  0   2  72 119   8   0]\n",
      " [  0   0   5  15  29   0]\n",
      " [  0   0   0   4   1   0]]\n"
     ]
    }
   ],
   "source": [
    "# Model building - Bagging\n",
    "wine_bag = BaggingClassifier(base_estimator = None, n_estimators = 10, max_samples = 1.0, max_features = 1.0,\n",
    "                            bootstrap = True)\n",
    "\n",
    "# Fit the model\n",
    "wine_bag.fit(x_trg, y_trg)\n",
    "print(\"Accuracy of Bagging model on trainig set is: \", wine_bag.score(x_trg, y_trg))\n",
    "print(\"Accuracy of Bagging model on test set is: \", wine_bag.score(x_test, y_test))\n",
    "\n",
    "# Predict via Bagging model\n",
    "wine_bag_pred = wine_bag.predict(x_test)\n",
    "\n",
    "# Compute the accuracy score of prediction\n",
    "wine_bag_acc_score = accuracy_score(y_test, wine_bag_pred)\n",
    "print(\"Accuracy score of Bagging model on prediction is: \", wine_bag_acc_score)\n",
    "\n",
    "# Confusion Matrix\n",
    "wine_bag_results = confusion_matrix(y_test, wine_bag_pred)\n",
    "print(\"Confusion Matrix of Bagging model is: \\n\", wine_bag_results)"
   ]
  },
  {
   "cell_type": "markdown",
   "metadata": {},
   "source": [
    "#### Creating Decision Tree model"
   ]
  },
  {
   "cell_type": "code",
   "execution_count": 19,
   "metadata": {},
   "outputs": [
    {
     "name": "stdout",
     "output_type": "stream",
     "text": [
      "Accuracy of Decision Tree model on training set is:  1.0\n",
      "Accuracy of Decision Tree model on test set is:  0.6041666666666666\n",
      "Accuracy score of Decision Tree model on prediction is:  0.6041666666666666\n",
      "Confusion Matrix of Decision Tree model is: \n",
      " [[  0   0   1   1   0   0]\n",
      " [  0   3   7   1   2   0]\n",
      " [  0  18 141  45   6   0]\n",
      " [  0  10  42 120  27   2]\n",
      " [  0   0   5  19  25   0]\n",
      " [  0   0   0   3   1   1]]\n"
     ]
    }
   ],
   "source": [
    "# Model building - Decision Tree\n",
    "wine_tree = DecisionTreeClassifier(random_state = 0)\n",
    "\n",
    "# Fit the model\n",
    "wine_tree.fit(x_trg, y_trg)\n",
    "print(\"Accuracy of Decision Tree model on training set is: \", wine_tree.score(x_trg, y_trg))\n",
    "print(\"Accuracy of Decision Tree model on test set is: \", wine_tree.score(x_test, y_test))\n",
    "\n",
    "# Prediction via Decision Tree model\n",
    "wine_tree_pred = wine_tree.predict(x_test)\n",
    "\n",
    "# Compute the accuracy score of prediction\n",
    "wine_tree_acc_score = accuracy_score(y_test, wine_tree_pred)\n",
    "print(\"Accuracy score of Decision Tree model on prediction is: \", wine_tree_acc_score)\n",
    "\n",
    "# Confusion Matrix\n",
    "wine_tree_results = confusion_matrix(y_test, wine_tree_pred)\n",
    "print(\"Confusion Matrix of Decision Tree model is: \\n\", wine_tree_results)"
   ]
  }
 ],
 "metadata": {
  "kernelspec": {
   "display_name": "Python 3",
   "language": "python",
   "name": "python3"
  },
  "language_info": {
   "codemirror_mode": {
    "name": "ipython",
    "version": 3
   },
   "file_extension": ".py",
   "mimetype": "text/x-python",
   "name": "python",
   "nbconvert_exporter": "python",
   "pygments_lexer": "ipython3",
   "version": "3.8.6"
  }
 },
 "nbformat": 4,
 "nbformat_minor": 4
}
