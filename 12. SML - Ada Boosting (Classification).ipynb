{
 "cells": [
  {
   "cell_type": "markdown",
   "metadata": {},
   "source": [
    "# Ada Boosting (Classification)\n",
    "\n",
    "Data Source: [Balance Scale](\"https://archive.ics.uci.edu/ml/datasets/balance+scale\")\n",
    "\n",
    "**Data Set Information**\n",
    "\n",
    "This data set was generated to model psychological experimental results. Each example is classified as having the balance scale tip to the right, tip to the left, or be balanced. The attributes are the left weight, the left distance, the right weight, and the right distance. The correct way to find the class is the greater of (left-distance * left-weight) and (right-distance * right-weight). If they are equal, it is balanced.\n",
    "\n",
    "**Attribute Information**\n",
    "\n",
    "1. Class Name: 3 (L, B, R)\n",
    "2. Left-Weight: 5 (1, 2, 3, 4, 5)\n",
    "3. Left-Distance: 5 (1, 2, 3, 4, 5)\n",
    "4. Right-Weight: 5 (1, 2, 3, 4, 5)\n",
    "5. Right-Distance: 5 (1, 2, 3, 4, 5)"
   ]
  },
  {
   "cell_type": "code",
   "execution_count": 1,
   "metadata": {},
   "outputs": [],
   "source": [
    "# Importing the necessary packages\n",
    "import pandas as pd\n",
    "import numpy as np\n",
    "from sklearn.model_selection import train_test_split\n",
    "from sklearn.ensemble import AdaBoostClassifier, ExtraTreesClassifier, RandomForestClassifier \n",
    "from sklearn.ensemble import BaggingClassifier\n",
    "from sklearn.tree import DecisionTreeClassifier\n",
    "from sklearn.metrics import classification_report, accuracy_score, confusion_matrix\n",
    "\n",
    "import warnings\n",
    "warnings.filterwarnings(\"ignore\")"
   ]
  },
  {
   "cell_type": "code",
   "execution_count": 2,
   "metadata": {},
   "outputs": [
    {
     "data": {
      "text/html": [
       "<div>\n",
       "<style scoped>\n",
       "    .dataframe tbody tr th:only-of-type {\n",
       "        vertical-align: middle;\n",
       "    }\n",
       "\n",
       "    .dataframe tbody tr th {\n",
       "        vertical-align: top;\n",
       "    }\n",
       "\n",
       "    .dataframe thead th {\n",
       "        text-align: right;\n",
       "    }\n",
       "</style>\n",
       "<table border=\"1\" class=\"dataframe\">\n",
       "  <thead>\n",
       "    <tr style=\"text-align: right;\">\n",
       "      <th></th>\n",
       "      <th>B</th>\n",
       "      <th>1</th>\n",
       "      <th>1.1</th>\n",
       "      <th>1.2</th>\n",
       "      <th>1.3</th>\n",
       "    </tr>\n",
       "  </thead>\n",
       "  <tbody>\n",
       "    <tr>\n",
       "      <th>0</th>\n",
       "      <td>R</td>\n",
       "      <td>1</td>\n",
       "      <td>1</td>\n",
       "      <td>1</td>\n",
       "      <td>2</td>\n",
       "    </tr>\n",
       "    <tr>\n",
       "      <th>1</th>\n",
       "      <td>R</td>\n",
       "      <td>1</td>\n",
       "      <td>1</td>\n",
       "      <td>1</td>\n",
       "      <td>3</td>\n",
       "    </tr>\n",
       "    <tr>\n",
       "      <th>2</th>\n",
       "      <td>R</td>\n",
       "      <td>1</td>\n",
       "      <td>1</td>\n",
       "      <td>1</td>\n",
       "      <td>4</td>\n",
       "    </tr>\n",
       "    <tr>\n",
       "      <th>3</th>\n",
       "      <td>R</td>\n",
       "      <td>1</td>\n",
       "      <td>1</td>\n",
       "      <td>1</td>\n",
       "      <td>5</td>\n",
       "    </tr>\n",
       "    <tr>\n",
       "      <th>4</th>\n",
       "      <td>R</td>\n",
       "      <td>1</td>\n",
       "      <td>1</td>\n",
       "      <td>2</td>\n",
       "      <td>1</td>\n",
       "    </tr>\n",
       "  </tbody>\n",
       "</table>\n",
       "</div>"
      ],
      "text/plain": [
       "   B  1  1.1  1.2  1.3\n",
       "0  R  1    1    1    2\n",
       "1  R  1    1    1    3\n",
       "2  R  1    1    1    4\n",
       "3  R  1    1    1    5\n",
       "4  R  1    1    2    1"
      ]
     },
     "execution_count": 2,
     "metadata": {},
     "output_type": "execute_result"
    }
   ],
   "source": [
    "# Load and read the data\n",
    "balance = pd.read_csv(\"./balance_scale/balance-scale.txt\")\n",
    "balance.head()"
   ]
  },
  {
   "cell_type": "code",
   "execution_count": 3,
   "metadata": {},
   "outputs": [
    {
     "data": {
      "text/html": [
       "<div>\n",
       "<style scoped>\n",
       "    .dataframe tbody tr th:only-of-type {\n",
       "        vertical-align: middle;\n",
       "    }\n",
       "\n",
       "    .dataframe tbody tr th {\n",
       "        vertical-align: top;\n",
       "    }\n",
       "\n",
       "    .dataframe thead th {\n",
       "        text-align: right;\n",
       "    }\n",
       "</style>\n",
       "<table border=\"1\" class=\"dataframe\">\n",
       "  <thead>\n",
       "    <tr style=\"text-align: right;\">\n",
       "      <th></th>\n",
       "      <th>class</th>\n",
       "      <th>left_weight</th>\n",
       "      <th>left_distance</th>\n",
       "      <th>right_weight</th>\n",
       "      <th>right_distance</th>\n",
       "    </tr>\n",
       "  </thead>\n",
       "  <tbody>\n",
       "    <tr>\n",
       "      <th>0</th>\n",
       "      <td>R</td>\n",
       "      <td>1</td>\n",
       "      <td>1</td>\n",
       "      <td>1</td>\n",
       "      <td>2</td>\n",
       "    </tr>\n",
       "    <tr>\n",
       "      <th>1</th>\n",
       "      <td>R</td>\n",
       "      <td>1</td>\n",
       "      <td>1</td>\n",
       "      <td>1</td>\n",
       "      <td>3</td>\n",
       "    </tr>\n",
       "    <tr>\n",
       "      <th>2</th>\n",
       "      <td>R</td>\n",
       "      <td>1</td>\n",
       "      <td>1</td>\n",
       "      <td>1</td>\n",
       "      <td>4</td>\n",
       "    </tr>\n",
       "    <tr>\n",
       "      <th>3</th>\n",
       "      <td>R</td>\n",
       "      <td>1</td>\n",
       "      <td>1</td>\n",
       "      <td>1</td>\n",
       "      <td>5</td>\n",
       "    </tr>\n",
       "    <tr>\n",
       "      <th>4</th>\n",
       "      <td>R</td>\n",
       "      <td>1</td>\n",
       "      <td>1</td>\n",
       "      <td>2</td>\n",
       "      <td>1</td>\n",
       "    </tr>\n",
       "  </tbody>\n",
       "</table>\n",
       "</div>"
      ],
      "text/plain": [
       "  class  left_weight  left_distance  right_weight  right_distance\n",
       "0     R            1              1             1               2\n",
       "1     R            1              1             1               3\n",
       "2     R            1              1             1               4\n",
       "3     R            1              1             1               5\n",
       "4     R            1              1             2               1"
      ]
     },
     "execution_count": 3,
     "metadata": {},
     "output_type": "execute_result"
    }
   ],
   "source": [
    "# Column rename as per source data\n",
    "balance.columns = [\"class\", \"left_weight\", \"left_distance\", \"right_weight\", \"right_distance\"]\n",
    "balance.head()"
   ]
  },
  {
   "cell_type": "code",
   "execution_count": 4,
   "metadata": {},
   "outputs": [],
   "source": [
    "# Export to .csv format\n",
    "# balance.to_csv(\"./balance_scale/balance_scale.csv\", index = None)"
   ]
  },
  {
   "cell_type": "code",
   "execution_count": 5,
   "metadata": {},
   "outputs": [
    {
     "data": {
      "text/html": [
       "<div>\n",
       "<style scoped>\n",
       "    .dataframe tbody tr th:only-of-type {\n",
       "        vertical-align: middle;\n",
       "    }\n",
       "\n",
       "    .dataframe tbody tr th {\n",
       "        vertical-align: top;\n",
       "    }\n",
       "\n",
       "    .dataframe thead th {\n",
       "        text-align: right;\n",
       "    }\n",
       "</style>\n",
       "<table border=\"1\" class=\"dataframe\">\n",
       "  <thead>\n",
       "    <tr style=\"text-align: right;\">\n",
       "      <th></th>\n",
       "      <th>class</th>\n",
       "      <th>left_weight</th>\n",
       "      <th>left_distance</th>\n",
       "      <th>right_weight</th>\n",
       "      <th>right_distance</th>\n",
       "    </tr>\n",
       "  </thead>\n",
       "  <tbody>\n",
       "    <tr>\n",
       "      <th>0</th>\n",
       "      <td>R</td>\n",
       "      <td>1</td>\n",
       "      <td>1</td>\n",
       "      <td>1</td>\n",
       "      <td>2</td>\n",
       "    </tr>\n",
       "    <tr>\n",
       "      <th>1</th>\n",
       "      <td>R</td>\n",
       "      <td>1</td>\n",
       "      <td>1</td>\n",
       "      <td>1</td>\n",
       "      <td>3</td>\n",
       "    </tr>\n",
       "    <tr>\n",
       "      <th>2</th>\n",
       "      <td>R</td>\n",
       "      <td>1</td>\n",
       "      <td>1</td>\n",
       "      <td>1</td>\n",
       "      <td>4</td>\n",
       "    </tr>\n",
       "    <tr>\n",
       "      <th>3</th>\n",
       "      <td>R</td>\n",
       "      <td>1</td>\n",
       "      <td>1</td>\n",
       "      <td>1</td>\n",
       "      <td>5</td>\n",
       "    </tr>\n",
       "    <tr>\n",
       "      <th>4</th>\n",
       "      <td>R</td>\n",
       "      <td>1</td>\n",
       "      <td>1</td>\n",
       "      <td>2</td>\n",
       "      <td>1</td>\n",
       "    </tr>\n",
       "  </tbody>\n",
       "</table>\n",
       "</div>"
      ],
      "text/plain": [
       "  class  left_weight  left_distance  right_weight  right_distance\n",
       "0     R            1              1             1               2\n",
       "1     R            1              1             1               3\n",
       "2     R            1              1             1               4\n",
       "3     R            1              1             1               5\n",
       "4     R            1              1             2               1"
      ]
     },
     "execution_count": 5,
     "metadata": {},
     "output_type": "execute_result"
    }
   ],
   "source": [
    "# Read the .csv format\n",
    "balance_scale = pd.read_csv(\"./balance_scale/balance_scale.csv\")\n",
    "balance_scale.head()"
   ]
  },
  {
   "cell_type": "code",
   "execution_count": 6,
   "metadata": {},
   "outputs": [
    {
     "name": "stdout",
     "output_type": "stream",
     "text": [
      "Dimension of dataset are:  (624, 5)\n",
      "The variables present in dataset are:  Index(['class', 'left_weight', 'left_distance', 'right_weight',\n",
      "       'right_distance'],\n",
      "      dtype='object')\n"
     ]
    }
   ],
   "source": [
    "# Display the characteristics of the dataset\n",
    "print(\"Dimension of dataset are: \", balance_scale.shape)\n",
    "print(\"The variables present in dataset are: \", balance_scale.columns)"
   ]
  },
  {
   "cell_type": "code",
   "execution_count": 7,
   "metadata": {},
   "outputs": [
    {
     "name": "stdout",
     "output_type": "stream",
     "text": [
      "<class 'pandas.core.frame.DataFrame'>\n",
      "RangeIndex: 624 entries, 0 to 623\n",
      "Data columns (total 5 columns):\n",
      " #   Column          Non-Null Count  Dtype \n",
      "---  ------          --------------  ----- \n",
      " 0   class           624 non-null    object\n",
      " 1   left_weight     624 non-null    int64 \n",
      " 2   left_distance   624 non-null    int64 \n",
      " 3   right_weight    624 non-null    int64 \n",
      " 4   right_distance  624 non-null    int64 \n",
      "dtypes: int64(4), object(1)\n",
      "memory usage: 24.5+ KB\n"
     ]
    }
   ],
   "source": [
    "# Information about the dataset\n",
    "balance_scale.info()"
   ]
  },
  {
   "cell_type": "code",
   "execution_count": 8,
   "metadata": {},
   "outputs": [],
   "source": [
    "# Using random seed function to generate the same dataset\n",
    "np.random.seed(3000)"
   ]
  },
  {
   "cell_type": "code",
   "execution_count": 9,
   "metadata": {},
   "outputs": [],
   "source": [
    "# Train-Test Split\n",
    "training, test = train_test_split(balance_scale, test_size = 0.3)\n",
    "\n",
    "x_trg = training.drop(\"class\", axis = 1)\n",
    "y_trg = training[\"class\"]\n",
    "\n",
    "x_test = test.drop(\"class\", axis = 1)\n",
    "y_test = test[\"class\"]"
   ]
  },
  {
   "cell_type": "markdown",
   "metadata": {},
   "source": [
    "### Creating AdaBoost Model"
   ]
  },
  {
   "cell_type": "code",
   "execution_count": 10,
   "metadata": {},
   "outputs": [
    {
     "name": "stdout",
     "output_type": "stream",
     "text": [
      "Accuracy of AdaBoost model on training set is:  0.9518348623853211\n"
     ]
    }
   ],
   "source": [
    "# Model building\n",
    "balance_ada = AdaBoostClassifier()\n",
    "\n",
    "# Fit the model\n",
    "balance_ada.fit(x_trg, y_trg)\n",
    "print(\"Accuracy of AdaBoost model on training set is: \", balance_ada.score(x_trg, y_trg))"
   ]
  },
  {
   "cell_type": "code",
   "execution_count": 11,
   "metadata": {},
   "outputs": [
    {
     "name": "stdout",
     "output_type": "stream",
     "text": [
      "Accuracy of AdaBoost model is:  0.9042553191489362\n"
     ]
    }
   ],
   "source": [
    "# Determine the accuracy of AdaBoost model\n",
    "# Predicting via AdaBoost model\n",
    "ada_pred = balance_ada.predict(x_test)\n",
    "\n",
    "# Computing the accuracy score of the model\n",
    "ada_acc_score = accuracy_score(y_test, ada_pred)\n",
    "print(\"Accuracy of AdaBoost model is: \", ada_acc_score)"
   ]
  },
  {
   "cell_type": "markdown",
   "metadata": {},
   "source": [
    "#### Creating a new AdaBoost model with Grid Search"
   ]
  },
  {
   "cell_type": "code",
   "execution_count": 12,
   "metadata": {},
   "outputs": [],
   "source": [
    "# Import the necessary package\n",
    "from sklearn.model_selection import GridSearchCV"
   ]
  },
  {
   "cell_type": "code",
   "execution_count": 13,
   "metadata": {},
   "outputs": [],
   "source": [
    "# Setting the parameters\n",
    "param_grid = {\"learning_rate\" : [0.5,0.1], \"n_estimators\" : [50,100,200]}"
   ]
  },
  {
   "cell_type": "code",
   "execution_count": 14,
   "metadata": {},
   "outputs": [
    {
     "name": "stdout",
     "output_type": "stream",
     "text": [
      "Best Parameters are: \n",
      " {'learning_rate': 0.5, 'n_estimators': 50}\n"
     ]
    }
   ],
   "source": [
    "# New model building\n",
    "balance_ada_grid = AdaBoostClassifier()\n",
    "balance_ada_CV = GridSearchCV(estimator = balance_ada_grid, param_grid = param_grid, cv = 5)\n",
    "\n",
    "# Fit the model\n",
    "balance_ada_result = balance_ada_CV.fit(x_trg, y_trg)\n",
    "print(\"Best Parameters are: \\n\", balance_ada_CV.best_params_)"
   ]
  },
  {
   "cell_type": "markdown",
   "metadata": {},
   "source": [
    "#### Creating the model with best scores"
   ]
  },
  {
   "cell_type": "code",
   "execution_count": 15,
   "metadata": {},
   "outputs": [],
   "source": [
    "# Model building - best\n",
    "balance_ada_best = AdaBoostClassifier(learning_rate = balance_ada_result.best_params_[\"learning_rate\"],\n",
    "                                     n_estimators = balance_ada_result.best_params_[\"n_estimators\"])"
   ]
  },
  {
   "cell_type": "markdown",
   "metadata": {},
   "source": [
    "#### Evaluating the model with best scores"
   ]
  },
  {
   "cell_type": "code",
   "execution_count": 16,
   "metadata": {},
   "outputs": [
    {
     "name": "stdout",
     "output_type": "stream",
     "text": [
      "Accuracy of new AdaBoost model with best parameters on training set is:  0.944954128440367\n"
     ]
    }
   ],
   "source": [
    "# Fit the model\n",
    "balance_ada_best.fit(x_trg, y_trg)\n",
    "print(\"Accuracy of new AdaBoost model with best parameters on training set is: \",\n",
    "      balance_ada_best.score(x_trg, y_trg))"
   ]
  },
  {
   "cell_type": "code",
   "execution_count": 17,
   "metadata": {},
   "outputs": [
    {
     "name": "stdout",
     "output_type": "stream",
     "text": [
      "Classification Report: \n",
      "               precision    recall  f1-score   support\n",
      "\n",
      "           B       0.20      0.11      0.14         9\n",
      "           L       0.99      0.94      0.96        99\n",
      "           R       0.89      0.99      0.93        80\n",
      "\n",
      "    accuracy                           0.92       188\n",
      "   macro avg       0.69      0.68      0.68       188\n",
      "weighted avg       0.91      0.92      0.91       188\n",
      "\n"
     ]
    }
   ],
   "source": [
    "# Predicting via new AdaBoost model with best scores\n",
    "balance_ada_pred_2 = balance_ada_best.predict(x_test)\n",
    "print(\"Classification Report: \\n\", classification_report(y_test, balance_ada_pred_2))"
   ]
  },
  {
   "cell_type": "code",
   "execution_count": 18,
   "metadata": {},
   "outputs": [
    {
     "name": "stdout",
     "output_type": "stream",
     "text": [
      "Accuracy of new AdaBoost model with best parameters:  0.9202127659574468\n",
      "Confusoin Matrix of new AdaBoost: \n",
      " [[ 1  0  8]\n",
      " [ 4 93  2]\n",
      " [ 0  1 79]]\n"
     ]
    }
   ],
   "source": [
    "# Determine the accuray of new AdaBoost model with best score via Confusion Matrix\n",
    "balance_ada_acc_score_2 = accuracy_score(y_test, balance_ada_pred_2)\n",
    "balance_ada_result_2 = confusion_matrix(y_test, balance_ada_pred_2)\n",
    "print(\"Accuracy of new AdaBoost model with best parameters: \", balance_ada_acc_score_2)\n",
    "print(\"Confusoin Matrix of new AdaBoost: \\n\", balance_ada_result_2)"
   ]
  },
  {
   "cell_type": "markdown",
   "metadata": {},
   "source": [
    "#### Creating Extra Tree Model"
   ]
  },
  {
   "cell_type": "code",
   "execution_count": 19,
   "metadata": {},
   "outputs": [
    {
     "name": "stdout",
     "output_type": "stream",
     "text": [
      "Accuracy of Extra Tree model on training set is:  1.0\n",
      "Accuracy of Extra Tree model on test set is:  0.8723404255319149\n",
      "Confusion Matrix of Extra Tree model is: \n",
      " [[ 0  2  7]\n",
      " [ 6 88  5]\n",
      " [ 1  3 76]]\n"
     ]
    }
   ],
   "source": [
    "# Model building - Extra Tree\n",
    "balance_extratree = ExtraTreesClassifier()\n",
    "\n",
    "# Fit the model\n",
    "balance_extratree.fit(x_trg, y_trg)\n",
    "print(\"Accuracy of Extra Tree model on training set is: \", balance_extratree.score(x_trg, y_trg))\n",
    "\n",
    "# Predicting via Extra Tree model\n",
    "balance_extratree_pred = balance_extratree.predict(x_test)\n",
    "\n",
    "# Compute the accuracy of Extra Tree model\n",
    "balance_extratree_acc_score = accuracy_score(y_test, balance_extratree_pred)\n",
    "print(\"Accuracy of Extra Tree model on test set is: \", balance_extratree_acc_score)\n",
    "\n",
    "# Confusion Matrix - Extra Tree\n",
    "balance_extratree_results = confusion_matrix(y_test, balance_extratree_pred)\n",
    "print(\"Confusion Matrix of Extra Tree model is: \\n\", balance_extratree_results)"
   ]
  },
  {
   "cell_type": "markdown",
   "metadata": {},
   "source": [
    "#### Creating a Random Forest Model"
   ]
  },
  {
   "cell_type": "code",
   "execution_count": 20,
   "metadata": {},
   "outputs": [
    {
     "name": "stdout",
     "output_type": "stream",
     "text": [
      "Accruacy of Random Forest model on training is:  1.0\n",
      "Accuracy of Random Forest model on test set is:  0.8563829787234043\n",
      "Confusion Matrix of Random Forest model is: \n",
      " [[ 0  4  5]\n",
      " [ 6 88  5]\n",
      " [ 3  4 73]]\n"
     ]
    }
   ],
   "source": [
    "# Model Building - Random Forest\n",
    "balance_forest = RandomForestClassifier(random_state = 0)\n",
    "\n",
    "# Fit the model\n",
    "balance_forest.fit(x_trg, y_trg)\n",
    "print(\"Accruacy of Random Forest model on training is: \", balance_forest.score(x_trg, y_trg))\n",
    "\n",
    "# Prediction via Random Forest model\n",
    "balance_forest_pred = balance_forest.predict(x_test)\n",
    "\n",
    "# Computation of accuracy of Random Forest model\n",
    "balance_forest_acc_score = accuracy_score(y_test, balance_forest_pred)\n",
    "print(\"Accuracy of Random Forest model on test set is: \", balance_forest_acc_score)\n",
    "\n",
    "# Confusion Matrix - Random Forest\n",
    "balance_forest_results = confusion_matrix(y_test, balance_forest_pred)\n",
    "print(\"Confusion Matrix of Random Forest model is: \\n\", balance_forest_results)"
   ]
  },
  {
   "cell_type": "markdown",
   "metadata": {},
   "source": [
    "#### Creating a Bagging Model"
   ]
  },
  {
   "cell_type": "code",
   "execution_count": 21,
   "metadata": {},
   "outputs": [
    {
     "name": "stdout",
     "output_type": "stream",
     "text": [
      "Accuracy of Bagging model on training set is:  0.9885321100917431\n",
      "Accuracy of Bagging Model on test set is:  0.8404255319148937\n",
      "Confusion Matrix of Bagging Model is: \n",
      " [[ 0  6  3]\n",
      " [10 86  3]\n",
      " [ 4  4 72]]\n"
     ]
    }
   ],
   "source": [
    "# Model Building - Bagging Model\n",
    "balance_bag = BaggingClassifier(base_estimator = None, n_estimators = 10, max_samples = 1.0,\n",
    "                               max_features = 1.0, bootstrap = True)\n",
    "\n",
    "# Fit the model\n",
    "balance_bag.fit(x_trg, y_trg)\n",
    "print(\"Accuracy of Bagging model on training set is: \", balance_bag.score(x_trg, y_trg))\n",
    "\n",
    "# Prediction via Bagging model\n",
    "balance_bag_pred = balance_bag.predict(x_test)\n",
    "\n",
    "# Computation of accuracy of Bagging model\n",
    "balance_bag_acc_score = accuracy_score(y_test, balance_bag_pred)\n",
    "print(\"Accuracy of Bagging Model on test set is: \", balance_bag_acc_score)\n",
    "\n",
    "# Confusion Matrix - Bagging Model\n",
    "balance_bag_results = confusion_matrix(y_test, balance_bag_pred)\n",
    "print(\"Confusion Matrix of Bagging Model is: \\n\", balance_bag_results)"
   ]
  },
  {
   "cell_type": "markdown",
   "metadata": {},
   "source": [
    "#### Creating a Decision Tree model"
   ]
  },
  {
   "cell_type": "code",
   "execution_count": 22,
   "metadata": {},
   "outputs": [
    {
     "name": "stdout",
     "output_type": "stream",
     "text": [
      "Accuracy of Decision Tree model on training set is:  1.0\n",
      "Accuracy of Decision Tree model on test set is:  0.8404255319148937\n",
      "Confusion Matrix of Decisiont Tree model is: \n",
      " [[ 1  3  5]\n",
      " [ 9 85  5]\n",
      " [ 6  2 72]]\n"
     ]
    }
   ],
   "source": [
    "# Model Building - Decision Tree\n",
    "balance_tree = DecisionTreeClassifier(random_state = 0)\n",
    "\n",
    "# Fit the model\n",
    "balance_tree.fit(x_trg, y_trg)\n",
    "print(\"Accuracy of Decision Tree model on training set is: \", balance_tree.score(x_trg, y_trg))\n",
    "\n",
    "# Prediction via Decision Tree model\n",
    "balance_tree_pred = balance_tree.predict(x_test)\n",
    "\n",
    "# Computing the accuracy of Decision Tree model\n",
    "balance_tree_acc_score = accuracy_score(y_test, balance_tree_pred)\n",
    "print(\"Accuracy of Decision Tree model on test set is: \", balance_tree_acc_score)\n",
    "\n",
    "# Confusion Matrix - Decision Tree\n",
    "balance_tree_results = confusion_matrix(y_test, balance_tree_pred)\n",
    "print(\"Confusion Matrix of Decisiont Tree model is: \\n\", balance_tree_results)"
   ]
  },
  {
   "cell_type": "code",
   "execution_count": 23,
   "metadata": {},
   "outputs": [],
   "source": [
    "# Importing necessary packages to create ROC curve of this multiclass data\n",
    "import matplotlib.pyplot as plt\n",
    "from sklearn.metrics import roc_curve, auc\n",
    "from sklearn.multiclass import OneVsRestClassifier"
   ]
  },
  {
   "cell_type": "code",
   "execution_count": 24,
   "metadata": {},
   "outputs": [],
   "source": [
    "# Importing package to binarize the dependent variable\n",
    "from sklearn.preprocessing import label_binarize"
   ]
  },
  {
   "cell_type": "code",
   "execution_count": 25,
   "metadata": {},
   "outputs": [],
   "source": [
    "# Creating binary labelling of dependent variable for both training and test\n",
    "y_trg = label_binarize(y_trg, classes = [\"B\", \"L\", \"R\"])\n",
    "y_test = label_binarize(y_test, classes = [\"B\", \"L\", \"R\"])"
   ]
  },
  {
   "cell_type": "code",
   "execution_count": 26,
   "metadata": {},
   "outputs": [],
   "source": [
    "# Using One vs Rest classifier for predicting multiclass\n",
    "classifier = OneVsRestClassifier(AdaBoostClassifier(learning_rate = balance_ada_result.best_params_[\"learning_rate\"],\n",
    "                                        n_estimators = balance_ada_result.best_params_[\"n_estimators\"]))"
   ]
  },
  {
   "cell_type": "code",
   "execution_count": 27,
   "metadata": {},
   "outputs": [
    {
     "data": {
      "text/plain": [
       "array([[-8.01645488e-02, -2.20014006e-01,  1.26244436e-01],\n",
       "       [-9.39194838e-02, -1.64616916e-01,  1.13988078e-01],\n",
       "       [-1.11120188e-01,  1.12808613e-01, -1.57796586e-01],\n",
       "       [-8.92210562e-02,  1.80330301e-01, -2.31903689e-01],\n",
       "       [-1.11687592e-01, -2.45187835e-01,  2.09221521e-01],\n",
       "       [-8.75234357e-02,  2.82999832e-01, -3.44728445e-01],\n",
       "       [-1.12247278e-01,  2.00039144e-02, -6.76046053e-02],\n",
       "       [-8.79361846e-02,  1.99464426e-01, -2.33187405e-01],\n",
       "       [-9.91208703e-02,  3.29278558e-03, -6.05476248e-02],\n",
       "       [-8.96217892e-02,  7.20041772e-02, -1.38757916e-01],\n",
       "       [-7.72217388e-02, -1.51909074e-01,  4.69398712e-02],\n",
       "       [-8.77341782e-02, -7.74407968e-02,  7.65482811e-03],\n",
       "       [-7.55241183e-02,  5.78727507e-02, -1.23487153e-01],\n",
       "       [-8.01475952e-02, -2.44530525e-02, -4.92107023e-02],\n",
       "       [-1.17348483e-01, -4.14386122e-02,  2.58973829e-03],\n",
       "       [-8.39729140e-02, -3.03517064e-02, -9.33134336e-03],\n",
       "       [-1.00960275e-01, -3.68701885e-01,  2.98068413e-01],\n",
       "       [-1.02355432e-01,  1.48785644e-01, -1.87677008e-01],\n",
       "       [-8.96466763e-02, -1.87926752e-01,  9.14751917e-02],\n",
       "       [-8.56585185e-02, -4.19238014e-01,  3.20375076e-01],\n",
       "       [-1.29660260e-01, -5.10584963e-01,  4.64597164e-01],\n",
       "       [-9.08620409e-02,  1.68755658e-01, -2.22926713e-01],\n",
       "       [-9.92626546e-02, -1.20217550e-01,  7.39590581e-02],\n",
       "       [-7.95002359e-02, -2.21852828e-01,  1.37844134e-01],\n",
       "       [-7.55241183e-02,  1.73484005e-01, -2.47479484e-01],\n",
       "       [-9.73100887e-02, -1.54902012e-02, -2.82220168e-02],\n",
       "       [-1.12648011e-01, -2.02185480e-02, -3.66924602e-03],\n",
       "       [-1.01638060e-01,  2.47385109e-01, -2.95828669e-01],\n",
       "       [-7.72217388e-02,  4.41558267e-02, -1.01389540e-01],\n",
       "       [-9.61271369e-02,  4.18644123e-01, -4.72055663e-01],\n",
       "       [-9.51327126e-02, -1.76965980e-01,  1.19543263e-01],\n",
       "       [-8.96466763e-02, -2.46675809e-01,  1.94910065e-01],\n",
       "       [-1.32906158e-01,  1.54554979e-03, -2.06133036e-02],\n",
       "       [-8.77341782e-02, -1.15340908e-01,  4.95729736e-02],\n",
       "       [-9.04662457e-02,  3.30506155e-01, -3.89416211e-01],\n",
       "       [-1.04923546e-01,  6.92905146e-03, -3.70722482e-02],\n",
       "       [-1.27949768e-01,  3.03175803e-02, -2.59759091e-02],\n",
       "       [-9.39194838e-02, -3.10431720e-01,  2.25272677e-01],\n",
       "       [-7.55241183e-02,  2.62436612e-01, -3.38206626e-01],\n",
       "       [-1.08912535e-01, -4.70452427e-01,  4.28247155e-01],\n",
       "       [-8.79490557e-02,  2.18550732e-02, -7.89518328e-02],\n",
       "       [-7.82599842e-02, -2.23842001e-01,  1.59537329e-01],\n",
       "       [-9.93654523e-02, -2.55285581e-01,  1.72644750e-01],\n",
       "       [-1.04923546e-01,  4.48291623e-02, -7.89903936e-02],\n",
       "       [-9.51327126e-02, -2.15974613e-01,  1.47935118e-01],\n",
       "       [-7.95002359e-02, -1.64990631e-01,  1.17286677e-01],\n",
       "       [-1.00159116e-01, -2.02411081e-01,  1.42917291e-01],\n",
       "       [-8.01645488e-02,  1.47534057e-02, -7.57673056e-02],\n",
       "       [-7.78026154e-02,  1.03540252e-01, -1.56575221e-01],\n",
       "       [-8.66959329e-02,  9.03629594e-02, -1.53891942e-01],\n",
       "       [-1.11674721e-01, -2.96783707e-02,  1.30678027e-02],\n",
       "       [-8.27326622e-02, -8.92030763e-02,  3.29193087e-02],\n",
       "       [-9.25645992e-02, -7.30094978e-02,  1.08566491e-02],\n",
       "       [-7.96902263e-02,  9.83653384e-02, -1.50603779e-01],\n",
       "       [-9.30343590e-02,  2.26549673e-01, -2.80729597e-01],\n",
       "       [-9.06849217e-02, -3.36768422e-01,  2.74382650e-01],\n",
       "       [-8.66959329e-02,  1.01604423e-01, -1.62544899e-01],\n",
       "       [-1.05913790e-01,  1.71206586e-01, -2.04358231e-01],\n",
       "       [-1.06163798e-01,  1.03680532e-01, -1.21241046e-01],\n",
       "       [-1.04923546e-01,  8.35316725e-02, -1.32672724e-01],\n",
       "       [-9.51575997e-02, -5.25849516e-01,  4.40503513e-01],\n",
       "       [-9.49919830e-02,  2.64512721e-01, -2.96902773e-01],\n",
       "       [-1.09722155e-01,  7.50489781e-02, -8.91132722e-02],\n",
       "       [-1.08481903e-01,  1.61976082e-02, -4.68626202e-02],\n",
       "       [-1.13385213e-01, -5.70580914e-01,  5.03640876e-01],\n",
       "       [-9.61271369e-02,  5.34255377e-01, -5.96047993e-01],\n",
       "       [-7.75794818e-02, -1.81922629e-01,  7.73796138e-02],\n",
       "       [-1.06176669e-01, -1.11828932e-01,  7.49126723e-02],\n",
       "       [-1.07156917e-01, -3.00722435e-01,  2.19262221e-01],\n",
       "       [-8.96217892e-02, -4.36070769e-02, -1.47655851e-02],\n",
       "       [-9.80834560e-02, -4.75302238e-01,  4.14662940e-01],\n",
       "       [-9.04613080e-02,  2.08978120e-01, -2.86862073e-01],\n",
       "       [-9.77278489e-02, -3.55536833e-01,  2.91708640e-01],\n",
       "       [-8.41278195e-02,  1.93517042e-01, -2.50814371e-01],\n",
       "       [-1.21721472e-01,  2.62275948e-01, -2.68436418e-01],\n",
       "       [-7.46536255e-02,  2.89561515e-02, -1.32056743e-01],\n",
       "       [-9.90077093e-02, -1.75021929e-01,  1.05160196e-01],\n",
       "       [-7.55241183e-02,  3.39345356e-01, -4.08516626e-01],\n",
       "       [-7.86177271e-02, -2.15153045e-01,  1.36294741e-01],\n",
       "       [-9.06600345e-02, -1.84752186e-01,  1.13515996e-01],\n",
       "       [-8.66959329e-02,  1.67271703e-01, -2.24201942e-01],\n",
       "       [-9.19002863e-02, -1.25900816e-01,  7.12653441e-02],\n",
       "       [-9.28812385e-02, -1.31386500e-01,  5.50729507e-02],\n",
       "       [-1.04206174e-01,  1.04419994e-01, -1.58750200e-01],\n",
       "       [-7.65623636e-02,  4.46888816e-02, -1.14324569e-01],\n",
       "       [-7.84619906e-02,  1.29665843e-01, -1.76905381e-01],\n",
       "       [-9.54493518e-02, -3.12251726e-01,  2.34069565e-01],\n",
       "       [-1.11674721e-01, -6.75784816e-02,  5.49859482e-02],\n",
       "       [-1.09722155e-01,  1.64001585e-01, -1.79840414e-01],\n",
       "       [-9.77278489e-02, -2.09722029e-01,  1.80424040e-01],\n",
       "       [-7.86177271e-02, -3.60967849e-01,  2.47579340e-01],\n",
       "       [-1.11407760e-01, -1.16970029e-01,  8.04995515e-02],\n",
       "       [-1.08481903e-01, -6.07111357e-02,  2.34473800e-02],\n",
       "       [-9.71653822e-02,  2.01698792e-01, -2.59937790e-01],\n",
       "       [-8.87636874e-02,  4.18759946e-01, -4.57289097e-01],\n",
       "       [-1.20906841e-01, -1.34628924e-01,  1.09900846e-01],\n",
       "       [-9.66896036e-02,  8.49344457e-02, -1.13768017e-01],\n",
       "       [-1.27962639e-01, -1.85191884e-01,  1.70177809e-01],\n",
       "       [-7.72217388e-02,  1.39522766e-02, -1.14097271e-01],\n",
       "       [-9.54493518e-02, -1.66436922e-01,  1.22784966e-01],\n",
       "       [-1.32906158e-01,  3.94456607e-02, -6.25314491e-02],\n",
       "       [-1.04923546e-01, -3.20795816e-02, -8.68039341e-03],\n",
       "       [-1.22859407e-01, -3.28308880e-01,  3.02809063e-01],\n",
       "       [-8.96217892e-02, -1.20515821e-01,  5.55444152e-02],\n",
       "       [-9.06849217e-02, -4.25721029e-01,  3.65109792e-01],\n",
       "       [-8.66529429e-02,  2.84286783e-01, -3.40590304e-01],\n",
       "       [-8.89744300e-02, -3.06332902e-02, -1.41786821e-02],\n",
       "       [-8.75234357e-02,  4.75519830e-01, -5.39030776e-01],\n",
       "       [-9.34471080e-02,  1.04005634e-01, -1.40796702e-01],\n",
       "       [-9.47899766e-02, -1.65903867e-01,  1.09849936e-01],\n",
       "       [-1.17348483e-01, -1.57049866e-01,  1.26582069e-01],\n",
       "       [-7.94882199e-02, -1.39531252e-01,  6.18465993e-02],\n",
       "       [-1.03173817e-01, -1.54575889e-01,  1.27796113e-01],\n",
       "       [-8.66959329e-02,  2.05171814e-01, -2.66120088e-01],\n",
       "       [-8.49553223e-02,  4.63865058e-01, -5.23725059e-01],\n",
       "       [-1.20481221e-01,  1.64415945e-01, -1.97793912e-01],\n",
       "       [-1.09722155e-01,  3.71488672e-02, -4.71951268e-02],\n",
       "       [-1.17348483e-01, -7.93387231e-02,  4.45078838e-02],\n",
       "       [-8.96217892e-02, -5.70696597e-03, -5.66837305e-02],\n",
       "       [-8.77341782e-02, -5.32052889e-04, -6.26551721e-02],\n",
       "       [-1.04923546e-01,  1.22540306e-01, -1.61064579e-01],\n",
       "       [-7.72217388e-02,  8.28583368e-02, -1.55071870e-01],\n",
       "       [-7.78026154e-02,  1.45876444e-02, -6.58480789e-02],\n",
       "       [-9.47419753e-02,  2.54327632e-01, -2.97945773e-01],\n",
       "       [-9.22068562e-02, -6.96545905e-02,  1.36820953e-02],\n",
       "       [-1.00159116e-01, -2.40311192e-01,  1.84835436e-01],\n",
       "       [-7.29560049e-02,  3.27690584e-01, -3.93210910e-01],\n",
       "       [-7.84619906e-02, -1.31760215e-01,  5.83715498e-02],\n",
       "       [-1.18386729e-01, -3.36095086e-01,  2.96781796e-01],\n",
       "       [-1.39134454e-01, -2.68312929e-01,  2.63765351e-01],\n",
       "       [-7.84499746e-02,  7.82164787e-02, -1.62035458e-01],\n",
       "       [-8.96387429e-02,  2.22580283e-02, -7.45873772e-02],\n",
       "       [-1.07214914e-01, -2.90874152e-01,  2.45112399e-01],\n",
       "       [-8.41278195e-02,  3.09128296e-01, -3.74806702e-01],\n",
       "       [-1.01645994e-01,  9.40625260e-02, -1.50323557e-01],\n",
       "       [-9.99483731e-02,  1.58029547e-01, -2.09465982e-01],\n",
       "       [-9.25725327e-02, -2.26332081e-01,  1.56361760e-01],\n",
       "       [-9.51575997e-02, -4.36896909e-01,  3.49776371e-01],\n",
       "       [-1.05446425e-01,  2.40180108e-01, -2.71310852e-01],\n",
       "       [-1.12969588e-01,  1.20643627e-01, -1.44081268e-01],\n",
       "       [-8.41278195e-02,  1.55616931e-01, -2.08896226e-01],\n",
       "       [-7.82599842e-02, -3.57612941e-01,  2.50404787e-01],\n",
       "       [-8.77341782e-02, -1.27384771e-01,  6.99901154e-02],\n",
       "       [-9.06600345e-02, -2.22652297e-01,  1.55434142e-01],\n",
       "       [-7.55241183e-02,  1.46825358e-01, -2.14214295e-01],\n",
       "       [-1.26709516e-01, -1.43342644e-01,  1.28502889e-01],\n",
       "       [-7.58818612e-02,  1.43470451e-01, -2.17039742e-01],\n",
       "       [-8.89744300e-02,  5.83193170e-02, -1.04905824e-01],\n",
       "       [-9.34471080e-02,  6.61055233e-02, -9.88785569e-02],\n",
       "       [-7.55241183e-02,  2.23734102e-01, -2.84524296e-01],\n",
       "       [-7.72217388e-02,  7.08144736e-02, -1.34654729e-01],\n",
       "       [-8.39608980e-02, -9.38449344e-02,  2.59557210e-02],\n",
       "       [-8.13878469e-02,  3.43983174e-02, -9.14613543e-02],\n",
       "       [-8.56585185e-02, -3.50331953e-01,  2.79400477e-01],\n",
       "       [-1.08481903e-01, -9.65863942e-03, -2.53616166e-02],\n",
       "       [-8.13878469e-02, -2.27027741e-01,  1.43815576e-01],\n",
       "       [-1.11432647e-01, -4.65853565e-01,  4.01459801e-01],\n",
       "       [-9.04613080e-02,  9.33668663e-02, -1.62869742e-01],\n",
       "       [-1.17235322e-01, -1.62891130e-01,  1.47740102e-01],\n",
       "       [-1.08481903e-01,  2.82414715e-02, -6.72797620e-02],\n",
       "       [-1.12158433e-01, -1.04136718e-01,  5.43212865e-02],\n",
       "       [-9.28812385e-02, -1.57752463e-02, -6.89193801e-02],\n",
       "       [-9.22068562e-02, -1.58607198e-01,  1.04409237e-01],\n",
       "       [-1.15537702e-01, -6.02215989e-02,  3.49153463e-02],\n",
       "       [-8.96466763e-02, -1.31064555e-01,  7.09177342e-02],\n",
       "       [-9.73100887e-02,  1.50371150e-01, -1.89259159e-01],\n",
       "       [-1.04923546e-01,  4.56315616e-02, -9.07545788e-02],\n",
       "       [-9.08620409e-02,  1.52442930e-02, -5.70162371e-02],\n",
       "       [-1.24141403e-01,  3.75225816e-02, -5.04937259e-02],\n",
       "       [-8.41278195e-02,  2.44569538e-01, -2.99623368e-01],\n",
       "       [-1.00247961e-01,  2.96442446e-02, -4.83750552e-02],\n",
       "       [-8.01475952e-02, -2.85879111e-01,  1.86066228e-01],\n",
       "       [-8.77341782e-02, -3.84321638e-02, -2.07370266e-02],\n",
       "       [-9.22068562e-02,  4.51542643e-02, -9.85460504e-02],\n",
       "       [-1.27949768e-01, -7.58253057e-03,  1.59422363e-02],\n",
       "       [-1.23832697e-01, -2.80948946e-01,  2.44153869e-01],\n",
       "       [-7.84619906e-02,  7.28036465e-02, -1.56347923e-01],\n",
       "       [-8.66959329e-02,  2.17215677e-01, -2.86537229e-01],\n",
       "       [-9.37517312e-02,  9.00500969e-02, -1.30659790e-01],\n",
       "       [-9.86952503e-02,  1.99878786e-01, -2.51140903e-01],\n",
       "       [-1.29660260e-01, -3.64770159e-01,  3.53312565e-01],\n",
       "       [-9.11836179e-02,  3.09617833e-01, -3.63338735e-01],\n",
       "       [-1.03393678e-01, -6.81596867e-02,  2.44408642e-02],\n",
       "       [-1.20481221e-01,  1.26515834e-01, -1.55875766e-01],\n",
       "       [-7.46536255e-02,  1.74770956e-01, -2.43341343e-01],\n",
       "       [-1.01645994e-01, -2.15487280e-02, -2.63312265e-02],\n",
       "       [-1.26709516e-01, -2.85337896e-02,  1.62747429e-02],\n",
       "       [-7.75794818e-02,  7.95034295e-02, -1.57897317e-01]])"
      ]
     },
     "execution_count": 27,
     "metadata": {},
     "output_type": "execute_result"
    }
   ],
   "source": [
    "# Predicting the values\n",
    "y_score = classifier.fit(x_trg, y_trg).decision_function(x_test)\n",
    "y_score"
   ]
  },
  {
   "cell_type": "code",
   "execution_count": 28,
   "metadata": {},
   "outputs": [],
   "source": [
    "# Create ROC curve and compute ROC area for each class\n",
    "fpr = dict()  # False Positive Rate\n",
    "tpr = dict()  # True Positive Rate\n",
    "roc_auc = dict()\n",
    "\n",
    "for i in range(3):\n",
    "    fpr[i], tpr[i], _ = roc_curve(y_test[:, i], y_score[:, i])\n",
    "    roc_auc[i] = auc(fpr[i], tpr[i])"
   ]
  },
  {
   "cell_type": "code",
   "execution_count": 29,
   "metadata": {},
   "outputs": [
    {
     "data": {
      "image/png": "[encoded data removed]",
      "text/plain": [
       "<Figure size 432x288 with 1 Axes>"
      ]
     },
     "metadata": {
      "needs_background": "light"
     },
     "output_type": "display_data"
    }
   ],
   "source": [
    "# Plot the ROC curve\n",
    "plt.figure()\n",
    "plt.plot(fpr[0], tpr[0], color = \"orange\", label = \"ROC curve (area = %0.2f)\" % roc_auc[0])\n",
    "plt.plot(fpr[1], tpr[1], color = \"red\", label = \"ROC curve (area = %0.2f)\" % roc_auc[1])\n",
    "plt.plot(fpr[2], tpr[2], color = \"blue\", label = \"ROC curve (area = %0.2f)\" % roc_auc[2])\n",
    "plt.plot([0,1], [0,1], color = \"green\", lw = 2, linestyle = \"--\")\n",
    "plt.xlim([0.0, 1.0])\n",
    "plt.ylim([0.0, 0.5])\n",
    "plt.xlabel(\"False Positive Rate\")\n",
    "plt.ylabel(\"True Positive Rate\")\n",
    "plt.title(\"Receiver Operating Characteristics\")\n",
    "plt.legend(loc = \"lower right\")\n",
    "plt.show()"
   ]
  },
  {
   "cell_type": "code",
   "execution_count": null,
   "metadata": {},
   "outputs": [],
   "source": []
  }
 ],
 "metadata": {
  "kernelspec": {
   "display_name": "Python 3",
   "language": "python",
   "name": "python3"
  },
  "language_info": {
   "codemirror_mode": {
    "name": "ipython",
    "version": 3
   },
   "file_extension": ".py",
   "mimetype": "text/x-python",
   "name": "python",
   "nbconvert_exporter": "python",
   "pygments_lexer": "ipython3",
   "version": "3.8.6"
  }
 },
 "nbformat": 4,
 "nbformat_minor": 4
}
