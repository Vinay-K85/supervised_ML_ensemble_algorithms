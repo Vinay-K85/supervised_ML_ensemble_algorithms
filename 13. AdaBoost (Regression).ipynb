{
 "cells": [
  {
   "cell_type": "markdown",
   "metadata": {},
   "source": [
    "# AdaBoost (Regression)\n",
    "\n",
    "Data Source: [Abalone](\"http://archive.ics.uci.edu/ml/datasets/Abalone\")\n",
    "\n",
    "**Data Set Information**\n",
    "\n",
    "Predicting the age of abalone from physical measurements. The age of abalone is determined by cutting the shell through the cone, staining it, and counting the number of rings through a microscope -- a boring and time-consuming task. Other measurements, which are easier to obtain, are used to predict the age. Further information, such as weather patterns and location (hence food availability) may be required to solve the problem.\n",
    "\n",
    "From the original data examples with missing values were removed (the majority having the predicted value missing), and the ranges of the continuous values have been scaled for use with an ANN (by dividing by 200).\n",
    "\n",
    "**Attribute Information**\n",
    "\n",
    "Given is the attribute name, attribute type, the measurement unit and a brief description. The number of rings is the value to predict: either as a continuous value or as a classification problem.\n",
    "\n",
    "\n",
    "Name / Data Type / Measurement Unit / Description\n",
    "\n",
    "- Sex / nominal / -- / M, F, and I (infant)\n",
    "- Length / continuous / mm / Longest shell measurement\n",
    "- Diameter / continuous / mm / perpendicular to length\n",
    "- Height / continuous / mm / with meat in shell\n",
    "- Whole weight / continuous / grams / whole abalone\n",
    "- Shucked weight / continuous / grams / weight of meat\n",
    "- Viscera weight / continuous / grams / gut weight (after bleeding)\n",
    "- Shell weight / continuous / grams / after being dried\n",
    "- Rings / integer / -- / +1.5 gives the age in years "
   ]
  },
  {
   "cell_type": "code",
   "execution_count": 1,
   "metadata": {},
   "outputs": [],
   "source": [
    "# Import the necessary packages\n",
    "import numpy as np\n",
    "import pandas as pd\n",
    "from sklearn.ensemble import AdaBoostRegressor, ExtraTreesRegressor, RandomForestRegressor, BaggingRegressor\n",
    "from sklearn.tree import DecisionTreeRegressor\n",
    "from sklearn.metrics import mean_squared_error\n",
    "from math import sqrt\n",
    "from sklearn.model_selection import train_test_split"
   ]
  },
  {
   "cell_type": "code",
   "execution_count": 2,
   "metadata": {},
   "outputs": [
    {
     "data": {
      "text/html": [
       "<div>\n",
       "<style scoped>\n",
       "    .dataframe tbody tr th:only-of-type {\n",
       "        vertical-align: middle;\n",
       "    }\n",
       "\n",
       "    .dataframe tbody tr th {\n",
       "        vertical-align: top;\n",
       "    }\n",
       "\n",
       "    .dataframe thead th {\n",
       "        text-align: right;\n",
       "    }\n",
       "</style>\n",
       "<table border=\"1\" class=\"dataframe\">\n",
       "  <thead>\n",
       "    <tr style=\"text-align: right;\">\n",
       "      <th></th>\n",
       "      <th>M</th>\n",
       "      <th>0.455</th>\n",
       "      <th>0.365</th>\n",
       "      <th>0.095</th>\n",
       "      <th>0.514</th>\n",
       "      <th>0.2245</th>\n",
       "      <th>0.101</th>\n",
       "      <th>0.15</th>\n",
       "      <th>15</th>\n",
       "    </tr>\n",
       "  </thead>\n",
       "  <tbody>\n",
       "    <tr>\n",
       "      <th>0</th>\n",
       "      <td>M</td>\n",
       "      <td>0.350</td>\n",
       "      <td>0.265</td>\n",
       "      <td>0.090</td>\n",
       "      <td>0.2255</td>\n",
       "      <td>0.0995</td>\n",
       "      <td>0.0485</td>\n",
       "      <td>0.070</td>\n",
       "      <td>7</td>\n",
       "    </tr>\n",
       "    <tr>\n",
       "      <th>1</th>\n",
       "      <td>F</td>\n",
       "      <td>0.530</td>\n",
       "      <td>0.420</td>\n",
       "      <td>0.135</td>\n",
       "      <td>0.6770</td>\n",
       "      <td>0.2565</td>\n",
       "      <td>0.1415</td>\n",
       "      <td>0.210</td>\n",
       "      <td>9</td>\n",
       "    </tr>\n",
       "    <tr>\n",
       "      <th>2</th>\n",
       "      <td>M</td>\n",
       "      <td>0.440</td>\n",
       "      <td>0.365</td>\n",
       "      <td>0.125</td>\n",
       "      <td>0.5160</td>\n",
       "      <td>0.2155</td>\n",
       "      <td>0.1140</td>\n",
       "      <td>0.155</td>\n",
       "      <td>10</td>\n",
       "    </tr>\n",
       "    <tr>\n",
       "      <th>3</th>\n",
       "      <td>I</td>\n",
       "      <td>0.330</td>\n",
       "      <td>0.255</td>\n",
       "      <td>0.080</td>\n",
       "      <td>0.2050</td>\n",
       "      <td>0.0895</td>\n",
       "      <td>0.0395</td>\n",
       "      <td>0.055</td>\n",
       "      <td>7</td>\n",
       "    </tr>\n",
       "    <tr>\n",
       "      <th>4</th>\n",
       "      <td>I</td>\n",
       "      <td>0.425</td>\n",
       "      <td>0.300</td>\n",
       "      <td>0.095</td>\n",
       "      <td>0.3515</td>\n",
       "      <td>0.1410</td>\n",
       "      <td>0.0775</td>\n",
       "      <td>0.120</td>\n",
       "      <td>8</td>\n",
       "    </tr>\n",
       "  </tbody>\n",
       "</table>\n",
       "</div>"
      ],
      "text/plain": [
       "   M  0.455  0.365  0.095   0.514  0.2245   0.101   0.15  15\n",
       "0  M  0.350  0.265  0.090  0.2255  0.0995  0.0485  0.070   7\n",
       "1  F  0.530  0.420  0.135  0.6770  0.2565  0.1415  0.210   9\n",
       "2  M  0.440  0.365  0.125  0.5160  0.2155  0.1140  0.155  10\n",
       "3  I  0.330  0.255  0.080  0.2050  0.0895  0.0395  0.055   7\n",
       "4  I  0.425  0.300  0.095  0.3515  0.1410  0.0775  0.120   8"
      ]
     },
     "execution_count": 2,
     "metadata": {},
     "output_type": "execute_result"
    }
   ],
   "source": [
    "# Loading and reading the data\n",
    "abalone_orig = pd.read_csv(\"./abalone/abalone.txt\")\n",
    "abalone_orig.head()"
   ]
  },
  {
   "cell_type": "code",
   "execution_count": 3,
   "metadata": {},
   "outputs": [
    {
     "data": {
      "text/html": [
       "<div>\n",
       "<style scoped>\n",
       "    .dataframe tbody tr th:only-of-type {\n",
       "        vertical-align: middle;\n",
       "    }\n",
       "\n",
       "    .dataframe tbody tr th {\n",
       "        vertical-align: top;\n",
       "    }\n",
       "\n",
       "    .dataframe thead th {\n",
       "        text-align: right;\n",
       "    }\n",
       "</style>\n",
       "<table border=\"1\" class=\"dataframe\">\n",
       "  <thead>\n",
       "    <tr style=\"text-align: right;\">\n",
       "      <th></th>\n",
       "      <th>sex</th>\n",
       "      <th>length</th>\n",
       "      <th>diameter</th>\n",
       "      <th>height</th>\n",
       "      <th>wholeweight</th>\n",
       "      <th>shuckedweight</th>\n",
       "      <th>visceraweight</th>\n",
       "      <th>shellweight</th>\n",
       "      <th>rings</th>\n",
       "    </tr>\n",
       "  </thead>\n",
       "  <tbody>\n",
       "    <tr>\n",
       "      <th>0</th>\n",
       "      <td>M</td>\n",
       "      <td>0.350</td>\n",
       "      <td>0.265</td>\n",
       "      <td>0.090</td>\n",
       "      <td>0.2255</td>\n",
       "      <td>0.0995</td>\n",
       "      <td>0.0485</td>\n",
       "      <td>0.070</td>\n",
       "      <td>7</td>\n",
       "    </tr>\n",
       "    <tr>\n",
       "      <th>1</th>\n",
       "      <td>F</td>\n",
       "      <td>0.530</td>\n",
       "      <td>0.420</td>\n",
       "      <td>0.135</td>\n",
       "      <td>0.6770</td>\n",
       "      <td>0.2565</td>\n",
       "      <td>0.1415</td>\n",
       "      <td>0.210</td>\n",
       "      <td>9</td>\n",
       "    </tr>\n",
       "    <tr>\n",
       "      <th>2</th>\n",
       "      <td>M</td>\n",
       "      <td>0.440</td>\n",
       "      <td>0.365</td>\n",
       "      <td>0.125</td>\n",
       "      <td>0.5160</td>\n",
       "      <td>0.2155</td>\n",
       "      <td>0.1140</td>\n",
       "      <td>0.155</td>\n",
       "      <td>10</td>\n",
       "    </tr>\n",
       "    <tr>\n",
       "      <th>3</th>\n",
       "      <td>I</td>\n",
       "      <td>0.330</td>\n",
       "      <td>0.255</td>\n",
       "      <td>0.080</td>\n",
       "      <td>0.2050</td>\n",
       "      <td>0.0895</td>\n",
       "      <td>0.0395</td>\n",
       "      <td>0.055</td>\n",
       "      <td>7</td>\n",
       "    </tr>\n",
       "    <tr>\n",
       "      <th>4</th>\n",
       "      <td>I</td>\n",
       "      <td>0.425</td>\n",
       "      <td>0.300</td>\n",
       "      <td>0.095</td>\n",
       "      <td>0.3515</td>\n",
       "      <td>0.1410</td>\n",
       "      <td>0.0775</td>\n",
       "      <td>0.120</td>\n",
       "      <td>8</td>\n",
       "    </tr>\n",
       "  </tbody>\n",
       "</table>\n",
       "</div>"
      ],
      "text/plain": [
       "  sex  length  diameter  height  wholeweight  shuckedweight  visceraweight  \\\n",
       "0   M   0.350     0.265   0.090       0.2255         0.0995         0.0485   \n",
       "1   F   0.530     0.420   0.135       0.6770         0.2565         0.1415   \n",
       "2   M   0.440     0.365   0.125       0.5160         0.2155         0.1140   \n",
       "3   I   0.330     0.255   0.080       0.2050         0.0895         0.0395   \n",
       "4   I   0.425     0.300   0.095       0.3515         0.1410         0.0775   \n",
       "\n",
       "   shellweight  rings  \n",
       "0        0.070      7  \n",
       "1        0.210      9  \n",
       "2        0.155     10  \n",
       "3        0.055      7  \n",
       "4        0.120      8  "
      ]
     },
     "execution_count": 3,
     "metadata": {},
     "output_type": "execute_result"
    }
   ],
   "source": [
    "# Column rename as per data source\n",
    "abalone_orig.columns = [\"sex\", \"length\", \"diameter\", \"height\", \"wholeweight\", \"shuckedweight\",\n",
    "                       \"visceraweight\", \"shellweight\", \"rings\"]\n",
    "abalone_orig.head()"
   ]
  },
  {
   "cell_type": "code",
   "execution_count": 4,
   "metadata": {},
   "outputs": [],
   "source": [
    "# Export this to .csv data\n",
    "# abalone_orig.to_csv(\"./abalone/abalone.csv\", index = None)"
   ]
  },
  {
   "cell_type": "code",
   "execution_count": 5,
   "metadata": {},
   "outputs": [
    {
     "data": {
      "text/html": [
       "<div>\n",
       "<style scoped>\n",
       "    .dataframe tbody tr th:only-of-type {\n",
       "        vertical-align: middle;\n",
       "    }\n",
       "\n",
       "    .dataframe tbody tr th {\n",
       "        vertical-align: top;\n",
       "    }\n",
       "\n",
       "    .dataframe thead th {\n",
       "        text-align: right;\n",
       "    }\n",
       "</style>\n",
       "<table border=\"1\" class=\"dataframe\">\n",
       "  <thead>\n",
       "    <tr style=\"text-align: right;\">\n",
       "      <th></th>\n",
       "      <th>sex</th>\n",
       "      <th>length</th>\n",
       "      <th>diameter</th>\n",
       "      <th>height</th>\n",
       "      <th>wholeweight</th>\n",
       "      <th>shuckedweight</th>\n",
       "      <th>visceraweight</th>\n",
       "      <th>shellweight</th>\n",
       "      <th>rings</th>\n",
       "    </tr>\n",
       "  </thead>\n",
       "  <tbody>\n",
       "    <tr>\n",
       "      <th>0</th>\n",
       "      <td>M</td>\n",
       "      <td>0.350</td>\n",
       "      <td>0.265</td>\n",
       "      <td>0.090</td>\n",
       "      <td>0.2255</td>\n",
       "      <td>0.0995</td>\n",
       "      <td>0.0485</td>\n",
       "      <td>0.070</td>\n",
       "      <td>7</td>\n",
       "    </tr>\n",
       "    <tr>\n",
       "      <th>1</th>\n",
       "      <td>F</td>\n",
       "      <td>0.530</td>\n",
       "      <td>0.420</td>\n",
       "      <td>0.135</td>\n",
       "      <td>0.6770</td>\n",
       "      <td>0.2565</td>\n",
       "      <td>0.1415</td>\n",
       "      <td>0.210</td>\n",
       "      <td>9</td>\n",
       "    </tr>\n",
       "    <tr>\n",
       "      <th>2</th>\n",
       "      <td>M</td>\n",
       "      <td>0.440</td>\n",
       "      <td>0.365</td>\n",
       "      <td>0.125</td>\n",
       "      <td>0.5160</td>\n",
       "      <td>0.2155</td>\n",
       "      <td>0.1140</td>\n",
       "      <td>0.155</td>\n",
       "      <td>10</td>\n",
       "    </tr>\n",
       "    <tr>\n",
       "      <th>3</th>\n",
       "      <td>I</td>\n",
       "      <td>0.330</td>\n",
       "      <td>0.255</td>\n",
       "      <td>0.080</td>\n",
       "      <td>0.2050</td>\n",
       "      <td>0.0895</td>\n",
       "      <td>0.0395</td>\n",
       "      <td>0.055</td>\n",
       "      <td>7</td>\n",
       "    </tr>\n",
       "    <tr>\n",
       "      <th>4</th>\n",
       "      <td>I</td>\n",
       "      <td>0.425</td>\n",
       "      <td>0.300</td>\n",
       "      <td>0.095</td>\n",
       "      <td>0.3515</td>\n",
       "      <td>0.1410</td>\n",
       "      <td>0.0775</td>\n",
       "      <td>0.120</td>\n",
       "      <td>8</td>\n",
       "    </tr>\n",
       "  </tbody>\n",
       "</table>\n",
       "</div>"
      ],
      "text/plain": [
       "  sex  length  diameter  height  wholeweight  shuckedweight  visceraweight  \\\n",
       "0   M   0.350     0.265   0.090       0.2255         0.0995         0.0485   \n",
       "1   F   0.530     0.420   0.135       0.6770         0.2565         0.1415   \n",
       "2   M   0.440     0.365   0.125       0.5160         0.2155         0.1140   \n",
       "3   I   0.330     0.255   0.080       0.2050         0.0895         0.0395   \n",
       "4   I   0.425     0.300   0.095       0.3515         0.1410         0.0775   \n",
       "\n",
       "   shellweight  rings  \n",
       "0        0.070      7  \n",
       "1        0.210      9  \n",
       "2        0.155     10  \n",
       "3        0.055      7  \n",
       "4        0.120      8  "
      ]
     },
     "execution_count": 5,
     "metadata": {},
     "output_type": "execute_result"
    }
   ],
   "source": [
    "# Reading the .csv dataset\n",
    "abalone = pd.read_csv(\"./abalone/abalone.csv\")\n",
    "abalone.head()"
   ]
  },
  {
   "cell_type": "code",
   "execution_count": 6,
   "metadata": {},
   "outputs": [
    {
     "name": "stdout",
     "output_type": "stream",
     "text": [
      "Dimension of dataset are:  (4176, 9)\n",
      "The variables present in dataset are: \n",
      " Index(['sex', 'length', 'diameter', 'height', 'wholeweight', 'shuckedweight',\n",
      "       'visceraweight', 'shellweight', 'rings'],\n",
      "      dtype='object')\n"
     ]
    }
   ],
   "source": [
    "# Display the characteristics of dataset\n",
    "print(\"Dimension of dataset are: \", abalone.shape)\n",
    "print(\"The variables present in dataset are: \\n\", abalone.columns)"
   ]
  },
  {
   "cell_type": "code",
   "execution_count": 7,
   "metadata": {},
   "outputs": [
    {
     "name": "stdout",
     "output_type": "stream",
     "text": [
      "<class 'pandas.core.frame.DataFrame'>\n",
      "RangeIndex: 4176 entries, 0 to 4175\n",
      "Data columns (total 9 columns):\n",
      " #   Column         Non-Null Count  Dtype  \n",
      "---  ------         --------------  -----  \n",
      " 0   sex            4176 non-null   object \n",
      " 1   length         4176 non-null   float64\n",
      " 2   diameter       4176 non-null   float64\n",
      " 3   height         4176 non-null   float64\n",
      " 4   wholeweight    4176 non-null   float64\n",
      " 5   shuckedweight  4176 non-null   float64\n",
      " 6   visceraweight  4176 non-null   float64\n",
      " 7   shellweight    4176 non-null   float64\n",
      " 8   rings          4176 non-null   int64  \n",
      "dtypes: float64(7), int64(1), object(1)\n",
      "memory usage: 293.8+ KB\n"
     ]
    }
   ],
   "source": [
    "# Dataset information\n",
    "abalone.info()"
   ]
  },
  {
   "cell_type": "code",
   "execution_count": 8,
   "metadata": {},
   "outputs": [
    {
     "data": {
      "text/html": [
       "<div>\n",
       "<style scoped>\n",
       "    .dataframe tbody tr th:only-of-type {\n",
       "        vertical-align: middle;\n",
       "    }\n",
       "\n",
       "    .dataframe tbody tr th {\n",
       "        vertical-align: top;\n",
       "    }\n",
       "\n",
       "    .dataframe thead th {\n",
       "        text-align: right;\n",
       "    }\n",
       "</style>\n",
       "<table border=\"1\" class=\"dataframe\">\n",
       "  <thead>\n",
       "    <tr style=\"text-align: right;\">\n",
       "      <th></th>\n",
       "      <th>length</th>\n",
       "      <th>diameter</th>\n",
       "      <th>height</th>\n",
       "      <th>wholeweight</th>\n",
       "      <th>shuckedweight</th>\n",
       "      <th>visceraweight</th>\n",
       "      <th>shellweight</th>\n",
       "      <th>rings</th>\n",
       "    </tr>\n",
       "  </thead>\n",
       "  <tbody>\n",
       "    <tr>\n",
       "      <th>0</th>\n",
       "      <td>0.350</td>\n",
       "      <td>0.265</td>\n",
       "      <td>0.090</td>\n",
       "      <td>0.2255</td>\n",
       "      <td>0.0995</td>\n",
       "      <td>0.0485</td>\n",
       "      <td>0.070</td>\n",
       "      <td>7</td>\n",
       "    </tr>\n",
       "    <tr>\n",
       "      <th>1</th>\n",
       "      <td>0.530</td>\n",
       "      <td>0.420</td>\n",
       "      <td>0.135</td>\n",
       "      <td>0.6770</td>\n",
       "      <td>0.2565</td>\n",
       "      <td>0.1415</td>\n",
       "      <td>0.210</td>\n",
       "      <td>9</td>\n",
       "    </tr>\n",
       "    <tr>\n",
       "      <th>2</th>\n",
       "      <td>0.440</td>\n",
       "      <td>0.365</td>\n",
       "      <td>0.125</td>\n",
       "      <td>0.5160</td>\n",
       "      <td>0.2155</td>\n",
       "      <td>0.1140</td>\n",
       "      <td>0.155</td>\n",
       "      <td>10</td>\n",
       "    </tr>\n",
       "    <tr>\n",
       "      <th>3</th>\n",
       "      <td>0.330</td>\n",
       "      <td>0.255</td>\n",
       "      <td>0.080</td>\n",
       "      <td>0.2050</td>\n",
       "      <td>0.0895</td>\n",
       "      <td>0.0395</td>\n",
       "      <td>0.055</td>\n",
       "      <td>7</td>\n",
       "    </tr>\n",
       "    <tr>\n",
       "      <th>4</th>\n",
       "      <td>0.425</td>\n",
       "      <td>0.300</td>\n",
       "      <td>0.095</td>\n",
       "      <td>0.3515</td>\n",
       "      <td>0.1410</td>\n",
       "      <td>0.0775</td>\n",
       "      <td>0.120</td>\n",
       "      <td>8</td>\n",
       "    </tr>\n",
       "  </tbody>\n",
       "</table>\n",
       "</div>"
      ],
      "text/plain": [
       "   length  diameter  height  wholeweight  shuckedweight  visceraweight  \\\n",
       "0   0.350     0.265   0.090       0.2255         0.0995         0.0485   \n",
       "1   0.530     0.420   0.135       0.6770         0.2565         0.1415   \n",
       "2   0.440     0.365   0.125       0.5160         0.2155         0.1140   \n",
       "3   0.330     0.255   0.080       0.2050         0.0895         0.0395   \n",
       "4   0.425     0.300   0.095       0.3515         0.1410         0.0775   \n",
       "\n",
       "   shellweight  rings  \n",
       "0        0.070      7  \n",
       "1        0.210      9  \n",
       "2        0.155     10  \n",
       "3        0.055      7  \n",
       "4        0.120      8  "
      ]
     },
     "execution_count": 8,
     "metadata": {},
     "output_type": "execute_result"
    }
   ],
   "source": [
    "# For the sake of simplicity lets drop the sex column\n",
    "abalone.drop(\"sex\", axis = 1, inplace = True)\n",
    "abalone.head()"
   ]
  },
  {
   "cell_type": "code",
   "execution_count": 9,
   "metadata": {},
   "outputs": [],
   "source": [
    "# Using random seed function for generating the same dataset\n",
    "np.random.seed(3000)"
   ]
  },
  {
   "cell_type": "code",
   "execution_count": 10,
   "metadata": {},
   "outputs": [],
   "source": [
    "# Train-Test Split\n",
    "# Dependent Variable - rings\n",
    "training, test = train_test_split(abalone, test_size = 0.3)\n",
    "\n",
    "x_trg = training.drop(\"rings\", axis = 1)\n",
    "y_trg = training[\"rings\"]\n",
    "\n",
    "x_test = test.drop(\"rings\", axis = 1)\n",
    "y_test = test[\"rings\"]"
   ]
  },
  {
   "cell_type": "markdown",
   "metadata": {},
   "source": [
    "### Creating AdaBoost model"
   ]
  },
  {
   "cell_type": "code",
   "execution_count": 11,
   "metadata": {},
   "outputs": [
    {
     "name": "stdout",
     "output_type": "stream",
     "text": [
      "Accuracy of AdaBoost model on training set is:  0.2354689688138678\n",
      "Accuracy of AdaBoost model on test set is:  0.1509188953985222\n",
      "RMSE value of AdaBoost model is:  2.9958820220046696\n"
     ]
    }
   ],
   "source": [
    "# Model building - AdaBoost\n",
    "abalone_ada = AdaBoostRegressor()\n",
    "\n",
    "# Fit the model\n",
    "abalone_ada.fit(x_trg, y_trg)\n",
    "print(\"Accuracy of AdaBoost model on training set is: \", abalone_ada.score(x_trg, y_trg))\n",
    "print(\"Accuracy of AdaBoost model on test set is: \", abalone_ada.score(x_test, y_test))\n",
    "\n",
    "# Prediction using AdaBoost model\n",
    "abalone_ada_pred = abalone_ada.predict(x_test)\n",
    "\n",
    "# Compute RMSE of AdaBoost model\n",
    "abalone_ada_rmse = sqrt(mean_squared_error(y_test, abalone_ada_pred))\n",
    "print(\"RMSE value of AdaBoost model is: \", abalone_ada_rmse)"
   ]
  },
  {
   "cell_type": "markdown",
   "metadata": {},
   "source": [
    "#### Create a new AdaBoost model with grid search"
   ]
  },
  {
   "cell_type": "code",
   "execution_count": 12,
   "metadata": {},
   "outputs": [],
   "source": [
    "# Import the necessary package\n",
    "from sklearn.model_selection import GridSearchCV"
   ]
  },
  {
   "cell_type": "code",
   "execution_count": 13,
   "metadata": {},
   "outputs": [
    {
     "name": "stdout",
     "output_type": "stream",
     "text": [
      "Best Parameters are: \n",
      " {'learning_rate': 0.5, 'n_estimators': 50}\n"
     ]
    }
   ],
   "source": [
    "# Setting the parameters\n",
    "param_grid = {\"n_estimators\" : [50,100,200], \"learning_rate\" : [0.5,0.7,0.9,1]}\n",
    "\n",
    "abalone_ada_grid = AdaBoostRegressor()\n",
    "abalone_ada_CV = GridSearchCV(estimator = abalone_ada_grid, param_grid = param_grid, cv = 5)\n",
    "\n",
    "# Fit the model\n",
    "abalone_ada_result = abalone_ada_CV.fit(x_trg, y_trg)\n",
    "print(\"Best Parameters are: \\n\", abalone_ada_CV.best_params_)"
   ]
  },
  {
   "cell_type": "markdown",
   "metadata": {},
   "source": [
    "#### Creating the new AdaBoost model with best scores"
   ]
  },
  {
   "cell_type": "code",
   "execution_count": 14,
   "metadata": {},
   "outputs": [],
   "source": [
    "# Model building\n",
    "abalone_ada_best = AdaBoostRegressor(n_estimators = abalone_ada_result.best_params_[\"n_estimators\"],\n",
    "                            learning_rate = abalone_ada_result.best_params_[\"learning_rate\"])"
   ]
  },
  {
   "cell_type": "markdown",
   "metadata": {},
   "source": [
    "#### Evaluating the model considering best parameters"
   ]
  },
  {
   "cell_type": "code",
   "execution_count": 15,
   "metadata": {},
   "outputs": [
    {
     "name": "stdout",
     "output_type": "stream",
     "text": [
      "Accuracy of new AdaBoost model on training set is:  0.405858161839737\n",
      "Accuracy of new AdaBoost model on test set is:  0.3199258662623835\n",
      "RMSE value of new AdaBoost model is:  2.6811940515838404\n"
     ]
    }
   ],
   "source": [
    "# Fit the model\n",
    "abalone_ada_best.fit(x_trg, y_trg)\n",
    "print(\"Accuracy of new AdaBoost model on training set is: \", abalone_ada_best.score(x_trg, y_trg))\n",
    "print(\"Accuracy of new AdaBoost model on test set is: \", abalone_ada_best.score(x_test, y_test))\n",
    "\n",
    "# Predict using new AdaBoost model\n",
    "abalone_ada_pred_2 = abalone_ada_best.predict(x_test)\n",
    "\n",
    "# Compute the RMSE of new AdaBoost model\n",
    "abalone_ada_rmse_2 = sqrt(mean_squared_error(y_test, abalone_ada_pred_2))\n",
    "print(\"RMSE value of new AdaBoost model is: \", abalone_ada_rmse_2)"
   ]
  },
  {
   "cell_type": "markdown",
   "metadata": {},
   "source": [
    "#### Create Extra Tree model"
   ]
  },
  {
   "cell_type": "code",
   "execution_count": 16,
   "metadata": {},
   "outputs": [
    {
     "name": "stdout",
     "output_type": "stream",
     "text": [
      "Accuracy of Extra Tree model on training set is:  1.0\n",
      "Accuracy of Extra Tree model on test set is:  0.5299793825666006\n",
      "RMSE value of Extra Tree model is:  2.228992324733101\n"
     ]
    }
   ],
   "source": [
    "# Model Building - Extra Tree Model\n",
    "abalone_extratree = ExtraTreesRegressor()\n",
    "\n",
    "# Fit the model\n",
    "abalone_extratree.fit(x_trg, y_trg)\n",
    "print(\"Accuracy of Extra Tree model on training set is: \", abalone_extratree.score(x_trg, y_trg))\n",
    "print(\"Accuracy of Extra Tree model on test set is: \", abalone_extratree.score(x_test, y_test))\n",
    "\n",
    "# Predict using Extra Tree model\n",
    "abalone_extratree_pred = abalone_extratree.predict(x_test)\n",
    "\n",
    "# Compute RMSE of Extra Tree model\n",
    "abalone_extratree_rmse = sqrt(mean_squared_error(y_test, abalone_extratree_pred))\n",
    "print(\"RMSE value of Extra Tree model is: \", abalone_extratree_rmse)"
   ]
  },
  {
   "cell_type": "markdown",
   "metadata": {},
   "source": [
    "#### Create Random Forest model"
   ]
  },
  {
   "cell_type": "code",
   "execution_count": 17,
   "metadata": {
    "scrolled": true
   },
   "outputs": [
    {
     "name": "stdout",
     "output_type": "stream",
     "text": [
      "Accuracy of Random Forest model on training set is:  0.9355857362667112\n",
      "Accuracy of Random Forest model on test set is:  0.525049212814444\n",
      "RMSE value of Random Forest model is:  2.2406520720319425\n"
     ]
    }
   ],
   "source": [
    "# Model building\n",
    "abalone_forest = RandomForestRegressor(random_state = 0)\n",
    "\n",
    "# Fit the model\n",
    "abalone_forest.fit(x_trg, y_trg)\n",
    "print(\"Accuracy of Random Forest model on training set is: \", abalone_forest.score(x_trg, y_trg))\n",
    "print(\"Accuracy of Random Forest model on test set is: \", abalone_forest.score(x_test, y_test))\n",
    "\n",
    "# Predict using Random Forest model\n",
    "abalone_forest_pred = abalone_forest.predict(x_test)\n",
    "\n",
    "# Compute RMSE of Random Forest model\n",
    "abalone_forest_rmse = sqrt(mean_squared_error(y_test, abalone_forest_pred))\n",
    "print(\"RMSE value of Random Forest model is: \", abalone_forest_rmse)"
   ]
  },
  {
   "cell_type": "markdown",
   "metadata": {},
   "source": [
    "#### Create Bagging model"
   ]
  },
  {
   "cell_type": "code",
   "execution_count": 18,
   "metadata": {},
   "outputs": [
    {
     "name": "stdout",
     "output_type": "stream",
     "text": [
      "Accuracy of Bagging model on training set is:  0.9138279776200258\n",
      "Accuracy of Bagging model on test set is:  0.4672721306872275\n",
      "RMSE value of Bagging model is :  2.3730278071828845\n"
     ]
    }
   ],
   "source": [
    "# Model building\n",
    "abalone_bag = BaggingRegressor(base_estimator = None, n_estimators = 10, max_samples = 1.0,\n",
    "                              max_features = 1.0, bootstrap = True)\n",
    "\n",
    "# Fit the model\n",
    "abalone_bag.fit(x_trg, y_trg)\n",
    "print(\"Accuracy of Bagging model on training set is: \", abalone_bag.score(x_trg, y_trg))\n",
    "print(\"Accuracy of Bagging model on test set is: \", abalone_bag.score(x_test, y_test))\n",
    "\n",
    "# Predict using Bagging model\n",
    "abalone_bag_pred = abalone_bag.predict(x_test)\n",
    "\n",
    "# Compute RMSE of Bagging model\n",
    "abalone_bag_rmse = sqrt(mean_squared_error(y_test, abalone_bag_pred))\n",
    "print(\"RMSE value of Bagging model is : \", abalone_bag_rmse)"
   ]
  },
  {
   "cell_type": "markdown",
   "metadata": {},
   "source": [
    "#### Create Decision Tree model"
   ]
  },
  {
   "cell_type": "code",
   "execution_count": 19,
   "metadata": {},
   "outputs": [
    {
     "name": "stdout",
     "output_type": "stream",
     "text": [
      "Accuracy of Decision Tree model on training set is:  1.0\n",
      "Accuracy of Decision Tree model on test set is:  0.0802553151489882\n",
      "RMSE value of Decision Tree model is:  3.118054932206196\n"
     ]
    }
   ],
   "source": [
    "# Model building\n",
    "abalone_tree = DecisionTreeRegressor(random_state = 0)\n",
    "\n",
    "# Fit the model\n",
    "abalone_tree.fit(x_trg, y_trg)\n",
    "print(\"Accuracy of Decision Tree model on training set is: \", abalone_tree.score(x_trg, y_trg))\n",
    "print(\"Accuracy of Decision Tree model on test set is: \", abalone_tree.score(x_test, y_test))\n",
    "\n",
    "# Predict using Decision Tree model\n",
    "abalone_tree_pred = abalone_tree.predict(x_test)\n",
    "\n",
    "# Compute RMSE of Decision Tree model\n",
    "abalone_tree_rmse = sqrt(mean_squared_error(y_test, abalone_tree_pred))\n",
    "print(\"RMSE value of Decision Tree model is: \", abalone_tree_rmse)"
   ]
  },
  {
   "cell_type": "markdown",
   "metadata": {},
   "source": [
    "The RMSE values of various models are:\n",
    "- AdaBoost : 2.99 (Train accuracy - 0.23 and Test accuracy - 0.15)\n",
    "- new AdaBoost : 2.68 (Train accuracy - 0.40 and Test accuracy - 0.31)\n",
    "- Extra Tree : 2.22 (Train accuracy - 1.00 and Test accuracy - 0.52)\n",
    "- Random Forest : 2.24 (Train accuracy - 0.93 and Test accuracy - 0.52)\n",
    "- Bagging : 2.37 (Train accuracy - 0.91 and Test accuracy - 0.46)\n",
    "- Decision Tree : 3.11 (Train accuracy - 1.00 and Test accuracy - 0.08)\n",
    "\n",
    "The RMSE value of Extra Tree model is least among all the models tried. We can conclude that Extra Tree model is the best model for this problem."
   ]
  }
 ],
 "metadata": {
  "kernelspec": {
   "display_name": "Python 3",
   "language": "python",
   "name": "python3"
  },
  "language_info": {
   "codemirror_mode": {
    "name": "ipython",
    "version": 3
   },
   "file_extension": ".py",
   "mimetype": "text/x-python",
   "name": "python",
   "nbconvert_exporter": "python",
   "pygments_lexer": "ipython3",
   "version": "3.8.6"
  }
 },
 "nbformat": 4,
 "nbformat_minor": 4
}
