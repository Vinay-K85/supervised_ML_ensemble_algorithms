{
 "cells": [
  {
   "cell_type": "markdown",
   "metadata": {},
   "source": [
    "# Receiver Operating Characteristics (ROC) Multiclass"
   ]
  },
  {
   "cell_type": "code",
   "execution_count": 1,
   "metadata": {},
   "outputs": [],
   "source": [
    "# Importing necessary packages and dataset\n",
    "import numpy as np\n",
    "import matplotlib.pyplot as plt\n",
    "from sklearn import svm, datasets\n",
    "from sklearn.metrics import roc_curve, auc\n",
    "from sklearn.model_selection import train_test_split\n",
    "from sklearn.preprocessing import label_binarize\n",
    "from sklearn.multiclass import OneVsRestClassifier"
   ]
  },
  {
   "cell_type": "code",
   "execution_count": 2,
   "metadata": {},
   "outputs": [
    {
     "name": "stdout",
     "output_type": "stream",
     "text": [
      "Names of independent variables are: \n",
      " ['sepal length (cm)', 'sepal width (cm)', 'petal length (cm)', 'petal width (cm)']\n",
      "Categories present in dataset are: \n",
      " ['setosa' 'versicolor' 'virginica']\n",
      "Dimensions of dataset:  (150, 4)\n"
     ]
    }
   ],
   "source": [
    "# Loading and reading the data\n",
    "iris = datasets.load_iris()\n",
    "\n",
    "# Characteristics of dataset\n",
    "print(\"Names of independent variables are: \\n\", iris.feature_names)\n",
    "print(\"Categories present in dataset are: \\n\", iris.target_names)\n",
    "\n",
    "x = iris.data\n",
    "y = iris.target\n",
    "print(\"Dimensions of dataset: \", x.shape)"
   ]
  },
  {
   "cell_type": "code",
   "execution_count": 3,
   "metadata": {},
   "outputs": [
    {
     "data": {
      "text/plain": [
       "3"
      ]
     },
     "execution_count": 3,
     "metadata": {},
     "output_type": "execute_result"
    }
   ],
   "source": [
    "# Binarize the dependent variable\n",
    "y = label_binarize(y, classes = [0, 1, 2])\n",
    "num_class = y.shape[1]\n",
    "num_class"
   ]
  },
  {
   "cell_type": "code",
   "execution_count": 4,
   "metadata": {},
   "outputs": [],
   "source": [
    "# Train-Test Split\n",
    "x_trg, x_test, y_trg, y_test = train_test_split(x, y, test_size = 0.5, random_state = 0)"
   ]
  },
  {
   "cell_type": "code",
   "execution_count": 5,
   "metadata": {},
   "outputs": [],
   "source": [
    "# Using OneVsRest classifier for multiple classification\n",
    "classifier = OneVsRestClassifier(svm.SVC(kernel = \"linear\", probability = True, random_state = 0))"
   ]
  },
  {
   "cell_type": "code",
   "execution_count": 6,
   "metadata": {},
   "outputs": [],
   "source": [
    "# Fit and calculate the score\n",
    "y_score = classifier.fit(x_trg, y_trg).decision_function(x_test)"
   ]
  },
  {
   "cell_type": "code",
   "execution_count": 7,
   "metadata": {},
   "outputs": [
    {
     "data": {
      "text/plain": [
       "array([[-3.58459897, -0.31176426,  1.78242707],\n",
       "       [-2.15411929,  1.11402775, -2.393737  ],\n",
       "       [ 1.89199335, -3.89624382, -6.29685764],\n",
       "       [-4.52609987, -0.63389114,  1.96065819],\n",
       "       [ 1.39684192, -1.77742447, -6.26300472],\n",
       "       [-4.29544529, -1.45403694,  3.29458805],\n",
       "       [ 1.60323992, -2.10436714, -6.37623283],\n",
       "       [-2.65028866, -1.23856217, -0.51739315],\n",
       "       [-2.86540149, -0.51680531, -0.7183625 ],\n",
       "       [-1.98461469, -0.42890191, -1.70646586],\n",
       "       [-3.74016002,  0.49686389,  0.82186705],\n",
       "       [-2.38375773, -1.40495745, -0.60548048],\n",
       "       [-2.64026621, -0.18330583, -0.76615536],\n",
       "       [-2.6974942 , -0.48066147, -0.71100338],\n",
       "       [-2.68086321, -0.48075311, -0.42256446],\n",
       "       [ 1.65255174, -2.20173405, -6.40562627],\n",
       "       [-2.52210662, -0.53055015, -0.52952971],\n",
       "       [-2.41636546,  0.45117003, -0.99069072],\n",
       "       [ 1.25101273, -0.81698465, -6.36116848],\n",
       "       [ 1.74739869, -3.24458567, -6.25493848],\n",
       "       [-3.18923262, -0.1604106 ,  1.00089508],\n",
       "       [-2.45158845, -0.59284356, -0.24998163],\n",
       "       [ 1.00481639, -1.56922072, -5.5277339 ],\n",
       "       [ 1.26350425, -0.37929165, -6.32976484],\n",
       "       [-3.02357691, -0.38552687,  0.20999377],\n",
       "       [ 2.02104714, -2.22672165, -6.70874036],\n",
       "       [ 1.10714364, -2.69810485, -5.20293158],\n",
       "       [-2.23785545, -0.61435037, -1.24701888],\n",
       "       [-1.35409061,  1.09559697, -2.85787206],\n",
       "       [ 1.20373409, -1.81013086, -5.81507654],\n",
       "       [-3.57813571, -0.96003325,  1.33502366],\n",
       "       [-2.44243775, -0.50690268, -0.13565725],\n",
       "       [ 1.43990798, -2.09754054, -6.32642977],\n",
       "       [-3.01486208, -0.78034106,  0.52419123],\n",
       "       [-4.0207076 , -0.35348621,  1.92294542],\n",
       "       [-1.94176612,  0.12980548, -1.25179631],\n",
       "       [ 1.32668652, -2.98542289, -6.00272372],\n",
       "       [-3.27471138,  0.08955846,  0.44643708],\n",
       "       [-2.16443233, -0.81345204, -0.88717803],\n",
       "       [-2.02891529,  0.19999583, -1.78312373],\n",
       "       [-3.78787453, -0.992648  ,  1.49451293],\n",
       "       [ 1.50672255, -1.24129423, -6.50379003],\n",
       "       [-3.43187065, -1.4553286 ,  1.15999519],\n",
       "       [ 1.1631371 , -2.10757814, -5.47148564],\n",
       "       [ 1.53519081, -2.65183177, -6.33895549],\n",
       "       [-1.71132902,  1.85925394, -2.70009682],\n",
       "       [-3.63492783, -0.76882852,  1.22696214],\n",
       "       [-4.01286452, -1.71761586,  2.60022947],\n",
       "       [-3.38909428,  1.26150467, -0.10964196],\n",
       "       [-4.20604454,  0.40780363,  1.32385095],\n",
       "       [-1.92528041,  0.52118222, -2.02128108],\n",
       "       [-4.52363081, -1.25925978,  2.20416446],\n",
       "       [-2.57396061, -1.5666668 , -0.04059996],\n",
       "       [-1.87262777,  0.76776212, -2.17025483],\n",
       "       [-3.18066308, -0.16375641,  0.25716886],\n",
       "       [-3.18981379, -0.241892  ,  0.17950406],\n",
       "       [-2.77345858,  0.81555331,  0.18834862],\n",
       "       [-3.43179756,  0.30352361,  0.4569526 ],\n",
       "       [-2.56539107, -1.57001262, -0.78432618],\n",
       "       [-3.42685942, -0.92379778,  1.05394387],\n",
       "       [-2.30742967, -1.73306209, -0.12868728],\n",
       "       [ 1.14904826, -0.95839234, -6.14614172],\n",
       "       [-3.40478132,  0.08059118,  0.99979881],\n",
       "       [-2.21454281,  0.08125692, -1.16108102],\n",
       "       [-1.50834493, -0.57048774, -1.99070203],\n",
       "       [-2.11381288,  0.53144628, -1.51619071],\n",
       "       [-2.52835238, -0.745494  , -0.52690175],\n",
       "       [-4.06399205, -1.38514338,  1.70480853],\n",
       "       [ 1.53976616, -2.60886133, -6.2817933 ],\n",
       "       [ 1.66758542, -0.63055749, -6.83375894],\n",
       "       [-3.63282155, -0.11610004,  0.9672989 ],\n",
       "       [-2.01606098, -0.632603  , -1.21189101],\n",
       "       [ 1.17795239, -1.88817481, -6.18118025],\n",
       "       [ 1.79416836, -4.48324144, -5.86145518],\n",
       "       [-2.86002748, -1.26337162, -0.32124431]])"
      ]
     },
     "execution_count": 7,
     "metadata": {},
     "output_type": "execute_result"
    }
   ],
   "source": [
    "y_score"
   ]
  },
  {
   "cell_type": "code",
   "execution_count": 8,
   "metadata": {},
   "outputs": [],
   "source": [
    "# Creating dictionaries for FP, TP and AUC\n",
    "fpr = dict()\n",
    "tpr = dict()\n",
    "roc_auc = dict()"
   ]
  },
  {
   "cell_type": "code",
   "execution_count": 9,
   "metadata": {},
   "outputs": [],
   "source": [
    "# Execute ROC and compute ROC area for each class\n",
    "for i in range(num_class):\n",
    "    fpr[i], tpr[i], _ = roc_curve(y_test[:, i], y_score[:, i])\n",
    "    roc_auc[i] = auc(fpr[i], tpr[i])"
   ]
  },
  {
   "cell_type": "code",
   "execution_count": 10,
   "metadata": {},
   "outputs": [
    {
     "data": {
      "image/png": "[encoded data removed]",
      "text/plain": [
       "<Figure size 432x288 with 1 Axes>"
      ]
     },
     "metadata": {
      "needs_background": "light"
     },
     "output_type": "display_data"
    }
   ],
   "source": [
    "# Plot ROC curve for all the classes\n",
    "plt.figure()\n",
    "plt.plot([0,1], [0,1], color = \"navy\", lw = 2, linestyle = \"--\")\n",
    "plt.plot(fpr[2], tpr[2], color = \"yellow\", label = \"ROC Curve (area = %0.2f)\" % roc_auc[2])\n",
    "plt.plot(fpr[1], tpr[1], color = \"red\", label = \"ROC Curve (area = %0.2f)\" % roc_auc[1])\n",
    "plt.plot(fpr[0], tpr[0], color = \"green\", label = \"ROC Curve (area = %0.2f)\" % roc_auc[0])\n",
    "plt.xlim([0.0, 1.0])\n",
    "plt.ylim([0.0, 1.05])\n",
    "plt.xlabel(\"False Positive Rate\")\n",
    "plt.ylabel(\"True Positive Rate\")\n",
    "plt.title(\"ROC for Iris Dataset\")\n",
    "plt.legend(loc = \"lower right\")\n",
    "plt.show()"
   ]
  },
  {
   "cell_type": "code",
   "execution_count": null,
   "metadata": {},
   "outputs": [],
   "source": []
  }
 ],
 "metadata": {
  "kernelspec": {
   "display_name": "Python 3",
   "language": "python",
   "name": "python3"
  },
  "language_info": {
   "codemirror_mode": {
    "name": "ipython",
    "version": 3
   },
   "file_extension": ".py",
   "mimetype": "text/x-python",
   "name": "python",
   "nbconvert_exporter": "python",
   "pygments_lexer": "ipython3",
   "version": "3.8.6"
  }
 },
 "nbformat": 4,
 "nbformat_minor": 4
}
