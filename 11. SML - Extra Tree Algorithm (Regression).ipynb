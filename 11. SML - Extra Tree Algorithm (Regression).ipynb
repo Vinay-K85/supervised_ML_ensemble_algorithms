{
 "cells": [
  {
   "cell_type": "markdown",
   "metadata": {},
   "source": [
    "# Extra Tree Algorithm (Regression)\n",
    "\n",
    "Data Source: [Concrete Compressive](\"https://archive.ics.uci.edu/ml/datasets/concrete+compressive+strength\")\n",
    "\n",
    "**Data Attributes**\n",
    "\n",
    "Given are the variable name, variable type, the measurement unit and a brief description. The concrete compressive strength is the regression problem. The order of this listing corresponds to the order of numerals along the rows of the database.\n",
    "\n",
    "Name -- Data Type -- Measurement -- Description\n",
    "\n",
    "- Cement (component 1) -- quantitative -- kg in a m3 mixture -- Input Variable\n",
    "- Blast Furnace Slag (component 2) -- quantitative -- kg in a m3 mixture -- Input Variable\n",
    "- Fly Ash (component 3) -- quantitative -- kg in a m3 mixture -- Input Variable\n",
    "- Water (component 4) -- quantitative -- kg in a m3 mixture -- Input Variable\n",
    "- Superplasticizer (component 5) -- quantitative -- kg in a m3 mixture -- Input Variable\n",
    "- Coarse Aggregate (component 6) -- quantitative -- kg in a m3 mixture -- Input Variable\n",
    "- Fine Aggregate (component 7) -- quantitative -- kg in a m3 mixture -- Input Variable\n",
    "- Age -- quantitative -- Day (1~365) -- Input Variable\n",
    "- Concrete compressive strength -- quantitative -- MPa -- Output Variable"
   ]
  },
  {
   "cell_type": "code",
   "execution_count": 1,
   "metadata": {},
   "outputs": [],
   "source": [
    "# Importing the necessary packages\n",
    "from sklearn.ensemble import ExtraTreesRegressor, RandomForestRegressor, BaggingRegressor\n",
    "from sklearn.tree import DecisionTreeRegressor\n",
    "from sklearn.metrics import mean_squared_error\n",
    "from sklearn.model_selection import train_test_split\n",
    "from math import sqrt\n",
    "import pandas as pd\n",
    "import numpy as np\n",
    "\n",
    "import warnings\n",
    "warnings.filterwarnings(\"ignore\")"
   ]
  },
  {
   "cell_type": "code",
   "execution_count": 2,
   "metadata": {},
   "outputs": [
    {
     "data": {
      "text/html": [
       "<div>\n",
       "<style scoped>\n",
       "    .dataframe tbody tr th:only-of-type {\n",
       "        vertical-align: middle;\n",
       "    }\n",
       "\n",
       "    .dataframe tbody tr th {\n",
       "        vertical-align: top;\n",
       "    }\n",
       "\n",
       "    .dataframe thead th {\n",
       "        text-align: right;\n",
       "    }\n",
       "</style>\n",
       "<table border=\"1\" class=\"dataframe\">\n",
       "  <thead>\n",
       "    <tr style=\"text-align: right;\">\n",
       "      <th></th>\n",
       "      <th>Cement (component 1)(kg in a m^3 mixture)</th>\n",
       "      <th>Blast Furnace Slag (component 2)(kg in a m^3 mixture)</th>\n",
       "      <th>Fly Ash (component 3)(kg in a m^3 mixture)</th>\n",
       "      <th>Water  (component 4)(kg in a m^3 mixture)</th>\n",
       "      <th>Superplasticizer (component 5)(kg in a m^3 mixture)</th>\n",
       "      <th>Coarse Aggregate  (component 6)(kg in a m^3 mixture)</th>\n",
       "      <th>Fine Aggregate (component 7)(kg in a m^3 mixture)</th>\n",
       "      <th>Age (day)</th>\n",
       "      <th>Concrete compressive strength(MPa, megapascals)</th>\n",
       "    </tr>\n",
       "  </thead>\n",
       "  <tbody>\n",
       "    <tr>\n",
       "      <th>0</th>\n",
       "      <td>540.0</td>\n",
       "      <td>0.0</td>\n",
       "      <td>0.0</td>\n",
       "      <td>162.0</td>\n",
       "      <td>2.5</td>\n",
       "      <td>1040.0</td>\n",
       "      <td>676.0</td>\n",
       "      <td>28</td>\n",
       "      <td>79.99</td>\n",
       "    </tr>\n",
       "    <tr>\n",
       "      <th>1</th>\n",
       "      <td>540.0</td>\n",
       "      <td>0.0</td>\n",
       "      <td>0.0</td>\n",
       "      <td>162.0</td>\n",
       "      <td>2.5</td>\n",
       "      <td>1055.0</td>\n",
       "      <td>676.0</td>\n",
       "      <td>28</td>\n",
       "      <td>61.89</td>\n",
       "    </tr>\n",
       "    <tr>\n",
       "      <th>2</th>\n",
       "      <td>332.5</td>\n",
       "      <td>142.5</td>\n",
       "      <td>0.0</td>\n",
       "      <td>228.0</td>\n",
       "      <td>0.0</td>\n",
       "      <td>932.0</td>\n",
       "      <td>594.0</td>\n",
       "      <td>270</td>\n",
       "      <td>40.27</td>\n",
       "    </tr>\n",
       "    <tr>\n",
       "      <th>3</th>\n",
       "      <td>332.5</td>\n",
       "      <td>142.5</td>\n",
       "      <td>0.0</td>\n",
       "      <td>228.0</td>\n",
       "      <td>0.0</td>\n",
       "      <td>932.0</td>\n",
       "      <td>594.0</td>\n",
       "      <td>365</td>\n",
       "      <td>41.05</td>\n",
       "    </tr>\n",
       "    <tr>\n",
       "      <th>4</th>\n",
       "      <td>198.6</td>\n",
       "      <td>132.4</td>\n",
       "      <td>0.0</td>\n",
       "      <td>192.0</td>\n",
       "      <td>0.0</td>\n",
       "      <td>978.4</td>\n",
       "      <td>825.5</td>\n",
       "      <td>360</td>\n",
       "      <td>44.30</td>\n",
       "    </tr>\n",
       "  </tbody>\n",
       "</table>\n",
       "</div>"
      ],
      "text/plain": [
       "   Cement (component 1)(kg in a m^3 mixture)  \\\n",
       "0                                      540.0   \n",
       "1                                      540.0   \n",
       "2                                      332.5   \n",
       "3                                      332.5   \n",
       "4                                      198.6   \n",
       "\n",
       "   Blast Furnace Slag (component 2)(kg in a m^3 mixture)  \\\n",
       "0                                                0.0       \n",
       "1                                                0.0       \n",
       "2                                              142.5       \n",
       "3                                              142.5       \n",
       "4                                              132.4       \n",
       "\n",
       "   Fly Ash (component 3)(kg in a m^3 mixture)  \\\n",
       "0                                         0.0   \n",
       "1                                         0.0   \n",
       "2                                         0.0   \n",
       "3                                         0.0   \n",
       "4                                         0.0   \n",
       "\n",
       "   Water  (component 4)(kg in a m^3 mixture)  \\\n",
       "0                                      162.0   \n",
       "1                                      162.0   \n",
       "2                                      228.0   \n",
       "3                                      228.0   \n",
       "4                                      192.0   \n",
       "\n",
       "   Superplasticizer (component 5)(kg in a m^3 mixture)  \\\n",
       "0                                                2.5     \n",
       "1                                                2.5     \n",
       "2                                                0.0     \n",
       "3                                                0.0     \n",
       "4                                                0.0     \n",
       "\n",
       "   Coarse Aggregate  (component 6)(kg in a m^3 mixture)  \\\n",
       "0                                             1040.0      \n",
       "1                                             1055.0      \n",
       "2                                              932.0      \n",
       "3                                              932.0      \n",
       "4                                              978.4      \n",
       "\n",
       "   Fine Aggregate (component 7)(kg in a m^3 mixture)  Age (day)  \\\n",
       "0                                              676.0         28   \n",
       "1                                              676.0         28   \n",
       "2                                              594.0        270   \n",
       "3                                              594.0        365   \n",
       "4                                              825.5        360   \n",
       "\n",
       "   Concrete compressive strength(MPa, megapascals)   \n",
       "0                                             79.99  \n",
       "1                                             61.89  \n",
       "2                                             40.27  \n",
       "3                                             41.05  \n",
       "4                                             44.30  "
      ]
     },
     "execution_count": 2,
     "metadata": {},
     "output_type": "execute_result"
    }
   ],
   "source": [
    "# Reading the data\n",
    "concrete = pd.read_csv(\"./concrete/Concrete_Data.csv\")\n",
    "concrete.head()"
   ]
  },
  {
   "cell_type": "code",
   "execution_count": 3,
   "metadata": {},
   "outputs": [
    {
     "name": "stdout",
     "output_type": "stream",
     "text": [
      "Dimension of dataset are:  (1030, 9)\n",
      "The variables present in dataset are: \n",
      " Index(['Cement (component 1)(kg in a m^3 mixture)',\n",
      "       'Blast Furnace Slag (component 2)(kg in a m^3 mixture)',\n",
      "       'Fly Ash (component 3)(kg in a m^3 mixture)',\n",
      "       'Water  (component 4)(kg in a m^3 mixture)',\n",
      "       'Superplasticizer (component 5)(kg in a m^3 mixture)',\n",
      "       'Coarse Aggregate  (component 6)(kg in a m^3 mixture)',\n",
      "       'Fine Aggregate (component 7)(kg in a m^3 mixture)', 'Age (day)',\n",
      "       'Concrete compressive strength(MPa, megapascals) '],\n",
      "      dtype='object')\n"
     ]
    }
   ],
   "source": [
    "# Display the characteristics of dataset\n",
    "print(\"Dimension of dataset are: \", concrete.shape)\n",
    "print(\"The variables present in dataset are: \\n\", concrete.columns)"
   ]
  },
  {
   "cell_type": "code",
   "execution_count": 4,
   "metadata": {},
   "outputs": [
    {
     "name": "stdout",
     "output_type": "stream",
     "text": [
      "The variables present in dataset are: \n",
      " Index(['X1', 'X2', 'X3', 'X4', 'X5', 'X6', 'X7', 'X8', 'Y'], dtype='object')\n"
     ]
    }
   ],
   "source": [
    "# Rename the columns for simplicity\n",
    "concrete.columns = [\"X1\", \"X2\", \"X3\", \"X4\", \"X5\", \"X6\", \"X7\", \"X8\", \"Y\"]\n",
    "print(\"The variables present in dataset are: \\n\", concrete.columns)"
   ]
  },
  {
   "cell_type": "code",
   "execution_count": 5,
   "metadata": {},
   "outputs": [],
   "source": [
    "# Using seed function to generate the same dataset\n",
    "np.random.seed(3000)"
   ]
  },
  {
   "cell_type": "code",
   "execution_count": 6,
   "metadata": {},
   "outputs": [],
   "source": [
    "# Train-Test Split\n",
    "training, test = train_test_split(concrete, test_size = 0.3)\n",
    "\n",
    "x_trg = training.drop(\"Y\", axis = 1)\n",
    "y_trg = training[\"Y\"]\n",
    "\n",
    "x_test = test.drop(\"Y\", axis = 1)\n",
    "y_test = test[\"Y\"]"
   ]
  },
  {
   "cell_type": "markdown",
   "metadata": {},
   "source": [
    "### Creating Extra Tree Model"
   ]
  },
  {
   "cell_type": "code",
   "execution_count": 7,
   "metadata": {},
   "outputs": [
    {
     "name": "stdout",
     "output_type": "stream",
     "text": [
      "Accuracy of Extra Tree model on training set is:  0.9952080224890555\n",
      "Accuracy of Extra Tree model on test set is:  0.9126882844900375\n",
      "The RMSE for Extra Tree model is:  5.018593068140219\n"
     ]
    }
   ],
   "source": [
    "# Model building\n",
    "concrete_extratree = ExtraTreesRegressor()\n",
    "\n",
    "# Fit the model\n",
    "concrete_extratree.fit(x_trg, y_trg)\n",
    "print(\"Accuracy of Extra Tree model on training set is: \", concrete_extratree.score(x_trg, y_trg))\n",
    "print(\"Accuracy of Extra Tree model on test set is: \", concrete_extratree.score(x_test, y_test))\n",
    "\n",
    "# Prediction via Extra Tree model\n",
    "concrete_extratree_pred = concrete_extratree.predict(x_test)\n",
    "\n",
    "# Compute the RMSE of the model\n",
    "concrete_extratree_rmse = sqrt(mean_squared_error(y_test, concrete_extratree_pred))\n",
    "print(\"The RMSE for Extra Tree model is: \", concrete_extratree_rmse)"
   ]
  },
  {
   "cell_type": "markdown",
   "metadata": {},
   "source": [
    "#### Creating a new Extra Tree model with Grid Search"
   ]
  },
  {
   "cell_type": "code",
   "execution_count": 8,
   "metadata": {},
   "outputs": [],
   "source": [
    "# Import the necessary package \n",
    "from sklearn.model_selection import GridSearchCV"
   ]
  },
  {
   "cell_type": "code",
   "execution_count": 9,
   "metadata": {},
   "outputs": [],
   "source": [
    "# Setting the parameters\n",
    "param_grid = {\"max_features\" : [\"auto\", \"sqrt\", \"log2\"], \"min_samples_leaf\" : [0.5, 1], \"criterion\" : [\"mse\"]}"
   ]
  },
  {
   "cell_type": "code",
   "execution_count": 10,
   "metadata": {},
   "outputs": [
    {
     "name": "stdout",
     "output_type": "stream",
     "text": [
      "Best Parameters: \n",
      " {'criterion': 'mse', 'max_features': 'auto', 'min_samples_leaf': 1}\n"
     ]
    }
   ],
   "source": [
    "# Step to identify the best parameters\n",
    "concrete_extratree_grid = ExtraTreesRegressor()\n",
    "\n",
    "concrete_extratree_CV = GridSearchCV(estimator = concrete_extratree_grid, param_grid = param_grid, cv = 5)\n",
    "\n",
    "# Fit the model\n",
    "concrete_extratree_result = concrete_extratree_CV.fit(x_trg, y_trg)\n",
    "print(\"Best Parameters: \\n\", concrete_extratree_CV.best_params_)"
   ]
  },
  {
   "cell_type": "code",
   "execution_count": 11,
   "metadata": {},
   "outputs": [],
   "source": [
    "# Model Building - new Extra Tree model with best parameters\n",
    "concrete_extratree_best = ExtraTreesRegressor(criterion = concrete_extratree_result.best_params_[\"criterion\"],\n",
    "                                max_features = concrete_extratree_result.best_params_[\"max_features\"],\n",
    "                                min_samples_leaf = concrete_extratree_result.best_params_[\"min_samples_leaf\"])"
   ]
  },
  {
   "cell_type": "markdown",
   "metadata": {},
   "source": [
    "#### Evaluation the new Extra Tree Model with best parameters"
   ]
  },
  {
   "cell_type": "code",
   "execution_count": 12,
   "metadata": {},
   "outputs": [
    {
     "name": "stdout",
     "output_type": "stream",
     "text": [
      "Accuracy of new Extra Tree model on training set is:  0.9952080224890555\n",
      "Accuracy of new Extra Tree model on test set is:  0.9200807782442204\n"
     ]
    }
   ],
   "source": [
    "# Fit the new model\n",
    "concrete_extratree_best.fit(x_trg, y_trg)\n",
    "print(\"Accuracy of new Extra Tree model on training set is: \", concrete_extratree_best.score(x_trg, y_trg))\n",
    "print(\"Accuracy of new Extra Tree model on test set is: \", concrete_extratree_best.score(x_test, y_test))"
   ]
  },
  {
   "cell_type": "code",
   "execution_count": 13,
   "metadata": {},
   "outputs": [
    {
     "name": "stdout",
     "output_type": "stream",
     "text": [
      "The RMSE of new Extra Tree model is:  4.8014382156797115\n"
     ]
    }
   ],
   "source": [
    "# Prediction via new Extra Tree model\n",
    "concrete_extratree_best_pred = concrete_extratree_best.predict(x_test)\n",
    "\n",
    "# Compute the RMSE of new Extra Tree model\n",
    "concrete_extratree_best_rmse = sqrt(mean_squared_error(y_test, concrete_extratree_best_pred))\n",
    "print(\"The RMSE of new Extra Tree model is: \", concrete_extratree_best_rmse)"
   ]
  },
  {
   "cell_type": "markdown",
   "metadata": {},
   "source": [
    "#### Creating a Random Forest Model"
   ]
  },
  {
   "cell_type": "code",
   "execution_count": 14,
   "metadata": {},
   "outputs": [
    {
     "name": "stdout",
     "output_type": "stream",
     "text": [
      "Accuracy of Random Forest model on training set is:  0.9824288271561449\n",
      "Accuracy of Random Forest model on test set is:  0.8986404568056372\n",
      "The RMSE of Random Forest model is:  5.407269855337327\n"
     ]
    }
   ],
   "source": [
    "# Model Building\n",
    "concrete_forest = RandomForestRegressor(random_state = 0)\n",
    "\n",
    "# Fit the model\n",
    "concrete_forest.fit(x_trg, y_trg)\n",
    "print(\"Accuracy of Random Forest model on training set is: \", concrete_forest.score(x_trg, y_trg))\n",
    "print(\"Accuracy of Random Forest model on test set is: \", concrete_forest.score(x_test, y_test))\n",
    "\n",
    "# Prediction via Random Forest model\n",
    "concrete_forest_pred = concrete_forest.predict(x_test)\n",
    "\n",
    "# Compute the RMSE of Random Forest model\n",
    "concrete_forest_rmse = sqrt(mean_squared_error(y_test, concrete_forest_pred))\n",
    "print(\"The RMSE of Random Forest model is: \", concrete_forest_rmse)"
   ]
  },
  {
   "cell_type": "markdown",
   "metadata": {},
   "source": [
    "#### Creating a Bagging Model"
   ]
  },
  {
   "cell_type": "code",
   "execution_count": 15,
   "metadata": {},
   "outputs": [
    {
     "name": "stdout",
     "output_type": "stream",
     "text": [
      "Accuracy of Bagging Model on training set is:  0.9752388798288795\n",
      "Accuracy of Bagging Model on test set is:  0.8837449520907321\n",
      "The RMSE of Bagging Model is:  5.790974218560807\n"
     ]
    }
   ],
   "source": [
    "# Model Building\n",
    "concrete_bag = BaggingRegressor(base_estimator = None, n_estimators = 10, max_samples = 1.0,\n",
    "                               max_features = 1.0, bootstrap = True)\n",
    "\n",
    "# Fit the model\n",
    "concrete_bag.fit(x_trg, y_trg)\n",
    "print(\"Accuracy of Bagging Model on training set is: \", concrete_bag.score(x_trg, y_trg))\n",
    "print(\"Accuracy of Bagging Model on test set is: \", concrete_bag.score(x_test, y_test))\n",
    "\n",
    "# Prediction via Bagging Model\n",
    "concrete_bag_pred = concrete_bag.predict(x_test)\n",
    "\n",
    "# Compute the RMSE of Bagging Model\n",
    "concrete_bag_rmse = sqrt(mean_squared_error(y_test, concrete_bag_pred))\n",
    "print(\"The RMSE of Bagging Model is: \", concrete_bag_rmse)"
   ]
  },
  {
   "cell_type": "markdown",
   "metadata": {},
   "source": [
    "From above built models we can see that the minimum RMSE is for new Extra Tree model with best parameters (4.80). So this is the best model for the problem."
   ]
  }
 ],
 "metadata": {
  "kernelspec": {
   "display_name": "Python 3",
   "language": "python",
   "name": "python3"
  },
  "language_info": {
   "codemirror_mode": {
    "name": "ipython",
    "version": 3
   },
   "file_extension": ".py",
   "mimetype": "text/x-python",
   "name": "python",
   "nbconvert_exporter": "python",
   "pygments_lexer": "ipython3",
   "version": "3.8.6"
  }
 },
 "nbformat": 4,
 "nbformat_minor": 4
}
